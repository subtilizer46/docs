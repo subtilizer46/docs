{
 "cells": [
  {
   "cell_type": "code",
   "execution_count": 1,
   "id": "ab920f68",
   "metadata": {},
   "outputs": [],
   "source": [
    "#yield"
   ]
  },
  {
   "cell_type": "code",
   "execution_count": 2,
   "id": "253c08fb",
   "metadata": {},
   "outputs": [
    {
     "name": "stdout",
     "output_type": "stream",
     "text": [
      "\n",
      "Here is a list of the Python keywords.  Enter any keyword to get more help.\n",
      "\n",
      "False               class               from                or\n",
      "None                continue            global              pass\n",
      "True                def                 if                  raise\n",
      "and                 del                 import              return\n",
      "as                  elif                in                  try\n",
      "assert              else                is                  while\n",
      "async               except              lambda              with\n",
      "await               finally             nonlocal            yield\n",
      "break               for                 not                 \n",
      "\n"
     ]
    }
   ],
   "source": [
    "help(\"keywords\")"
   ]
  },
  {
   "cell_type": "code",
   "execution_count": 3,
   "id": "cd17f567",
   "metadata": {},
   "outputs": [],
   "source": [
    "# Simple Example"
   ]
  },
  {
   "cell_type": "code",
   "execution_count": 4,
   "id": "bb3fc065",
   "metadata": {},
   "outputs": [
    {
     "name": "stdout",
     "output_type": "stream",
     "text": [
      "1\n"
     ]
    }
   ],
   "source": [
    "def gen():\n",
    "    return 1\n",
    "\n",
    "res=gen()\n",
    "print(res)"
   ]
  },
  {
   "cell_type": "code",
   "execution_count": 7,
   "id": "155c81be",
   "metadata": {},
   "outputs": [
    {
     "name": "stdout",
     "output_type": "stream",
     "text": [
      "10\n"
     ]
    }
   ],
   "source": [
    "def gen():\n",
    "    return 10\n",
    "res=gen()\n",
    "print(res)"
   ]
  },
  {
   "cell_type": "code",
   "execution_count": 8,
   "id": "185951cc",
   "metadata": {},
   "outputs": [
    {
     "name": "stdout",
     "output_type": "stream",
     "text": [
      "30\n"
     ]
    }
   ],
   "source": [
    "def gen():\n",
    "    return 30\n",
    "    return 40\n",
    "res=gen()\n",
    "print(res)"
   ]
  },
  {
   "cell_type": "code",
   "execution_count": 9,
   "id": "be011886",
   "metadata": {},
   "outputs": [
    {
     "name": "stdout",
     "output_type": "stream",
     "text": [
      "(30, 40)\n"
     ]
    }
   ],
   "source": [
    "def gen():\n",
    "    return 30,40\n",
    "res=gen()\n",
    "print(res)"
   ]
  },
  {
   "cell_type": "code",
   "execution_count": 10,
   "id": "e5b2519c",
   "metadata": {},
   "outputs": [
    {
     "name": "stdout",
     "output_type": "stream",
     "text": [
      "<class 'tuple'>\n"
     ]
    }
   ],
   "source": [
    "print(type(res))"
   ]
  },
  {
   "cell_type": "code",
   "execution_count": 11,
   "id": "b20a4809",
   "metadata": {},
   "outputs": [
    {
     "name": "stdout",
     "output_type": "stream",
     "text": [
      "<generator object gen at 0x0000013F23C61C70>\n"
     ]
    }
   ],
   "source": [
    "def gen():\n",
    "    yield 30\n",
    "    yield 40\n",
    "res=gen()\n",
    "print(res)"
   ]
  },
  {
   "cell_type": "code",
   "execution_count": 12,
   "id": "7c5d61be",
   "metadata": {},
   "outputs": [],
   "source": [
    "# Generator object"
   ]
  },
  {
   "cell_type": "code",
   "execution_count": 14,
   "id": "e6d0b41e",
   "metadata": {},
   "outputs": [
    {
     "name": "stdout",
     "output_type": "stream",
     "text": [
      "30\n"
     ]
    }
   ],
   "source": [
    "def gen():\n",
    "    yield 30\n",
    "    yield 40\n",
    "res=gen()\n",
    "print(next(res))"
   ]
  },
  {
   "cell_type": "code",
   "execution_count": 15,
   "id": "cfe5dea4",
   "metadata": {},
   "outputs": [
    {
     "name": "stdout",
     "output_type": "stream",
     "text": [
      "30\n",
      "40\n"
     ]
    }
   ],
   "source": [
    "def gen():\n",
    "    yield 30\n",
    "    yield 40\n",
    "res=gen()\n",
    "print(next(res))\n",
    "print(next(res))"
   ]
  },
  {
   "cell_type": "code",
   "execution_count": 16,
   "id": "4d3dc40a",
   "metadata": {},
   "outputs": [],
   "source": [
    "# What is next()?"
   ]
  },
  {
   "cell_type": "code",
   "execution_count": null,
   "id": "b4b73ef9",
   "metadata": {},
   "outputs": [],
   "source": [
    "'''\n",
    "1. It is a function  manually retrieve values from generator one at a time.\n",
    "'''"
   ]
  },
  {
   "cell_type": "code",
   "execution_count": 17,
   "id": "0f94f289",
   "metadata": {},
   "outputs": [
    {
     "ename": "TypeError",
     "evalue": "'int' object is not an iterator",
     "output_type": "error",
     "traceback": [
      "\u001b[1;31m---------------------------------------------------------------------------\u001b[0m",
      "\u001b[1;31mTypeError\u001b[0m                                 Traceback (most recent call last)",
      "Cell \u001b[1;32mIn[17], line 5\u001b[0m\n\u001b[0;32m      3\u001b[0m     \u001b[38;5;28;01mreturn\u001b[39;00m \u001b[38;5;241m40\u001b[39m\n\u001b[0;32m      4\u001b[0m res\u001b[38;5;241m=\u001b[39mgen()\n\u001b[1;32m----> 5\u001b[0m \u001b[38;5;28mprint\u001b[39m(\u001b[38;5;28mnext\u001b[39m(res))\n",
      "\u001b[1;31mTypeError\u001b[0m: 'int' object is not an iterator"
     ]
    }
   ],
   "source": [
    "def gen():\n",
    "    return 30\n",
    "    return 40\n",
    "res=gen()\n",
    "print(next(res))"
   ]
  },
  {
   "cell_type": "code",
   "execution_count": 18,
   "id": "c10ba320",
   "metadata": {},
   "outputs": [
    {
     "name": "stdout",
     "output_type": "stream",
     "text": [
      "30\n",
      "40\n"
     ]
    },
    {
     "ename": "StopIteration",
     "evalue": "",
     "output_type": "error",
     "traceback": [
      "\u001b[1;31m---------------------------------------------------------------------------\u001b[0m",
      "\u001b[1;31mStopIteration\u001b[0m                             Traceback (most recent call last)",
      "Cell \u001b[1;32mIn[18], line 7\u001b[0m\n\u001b[0;32m      5\u001b[0m \u001b[38;5;28mprint\u001b[39m(\u001b[38;5;28mnext\u001b[39m(res))\n\u001b[0;32m      6\u001b[0m \u001b[38;5;28mprint\u001b[39m(\u001b[38;5;28mnext\u001b[39m(res))\n\u001b[1;32m----> 7\u001b[0m \u001b[38;5;28mprint\u001b[39m(\u001b[38;5;28mnext\u001b[39m(res))\n",
      "\u001b[1;31mStopIteration\u001b[0m: "
     ]
    }
   ],
   "source": [
    "def gen():\n",
    "    yield 30\n",
    "    yield 40\n",
    "res=gen()\n",
    "print(next(res))\n",
    "print(next(res))\n",
    "print(next(res))"
   ]
  },
  {
   "cell_type": "code",
   "execution_count": 19,
   "id": "04da15fd",
   "metadata": {},
   "outputs": [],
   "source": [
    "# New Exception : StopIteration"
   ]
  },
  {
   "cell_type": "code",
   "execution_count": 20,
   "id": "8913cad7",
   "metadata": {},
   "outputs": [
    {
     "name": "stdout",
     "output_type": "stream",
     "text": [
      "30\n",
      "40\n",
      "No more values in bucket\n"
     ]
    }
   ],
   "source": [
    "def gen():\n",
    "    yield 30\n",
    "    yield 40\n",
    "res=gen()\n",
    "print(next(res))\n",
    "print(next(res))\n",
    "try:\n",
    "    print(next(res))\n",
    "except StopIteration:\n",
    "    print(\"No more values in bucket\")"
   ]
  },
  {
   "cell_type": "code",
   "execution_count": 21,
   "id": "08bacfc8",
   "metadata": {},
   "outputs": [],
   "source": [
    "# What is yield?"
   ]
  },
  {
   "cell_type": "code",
   "execution_count": null,
   "id": "cd5ab48f",
   "metadata": {},
   "outputs": [],
   "source": [
    "'''\n",
    "1. It is keywords.\n",
    "2. It is used in function to create generator.\n",
    "3. It will generate value one at a time.\n",
    "4. Advantages:\n",
    "If there is large dataset, \n",
    "We can iterate over all dataset without loading them all in memory.\n",
    "'''"
   ]
  },
  {
   "cell_type": "code",
   "execution_count": 22,
   "id": "46041379",
   "metadata": {},
   "outputs": [],
   "source": [
    "# Where we can use?"
   ]
  },
  {
   "cell_type": "code",
   "execution_count": null,
   "id": "a7690299",
   "metadata": {},
   "outputs": [],
   "source": [
    "'''\n",
    "1. When we working large dataset, and that dataset can't fit entirely into\n",
    "memory. Yeild will allow to process data one peice at time.\n",
    "'''"
   ]
  },
  {
   "cell_type": "code",
   "execution_count": 25,
   "id": "740c41d2",
   "metadata": {},
   "outputs": [
    {
     "name": "stdout",
     "output_type": "stream",
     "text": [
      "30\n",
      "40\n",
      "40\n"
     ]
    }
   ],
   "source": [
    "def gen():\n",
    "    yield 30\n",
    "    yield 40\n",
    "    yield 40\n",
    "\n",
    "res=gen()\n",
    "for i in res:\n",
    "    print(i)"
   ]
  },
  {
   "cell_type": "code",
   "execution_count": null,
   "id": "2c4c36aa",
   "metadata": {},
   "outputs": [],
   "source": []
  }
 ],
 "metadata": {
  "kernelspec": {
   "display_name": "Python 3 (ipykernel)",
   "language": "python",
   "name": "python3"
  },
  "language_info": {
   "codemirror_mode": {
    "name": "ipython",
    "version": 3
   },
   "file_extension": ".py",
   "mimetype": "text/x-python",
   "name": "python",
   "nbconvert_exporter": "python",
   "pygments_lexer": "ipython3",
   "version": "3.11.3"
  }
 },
 "nbformat": 4,
 "nbformat_minor": 5
}
