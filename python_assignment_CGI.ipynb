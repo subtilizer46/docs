{
 "cells": [
  {
   "cell_type": "code",
   "execution_count": null,
   "id": "200f9113",
   "metadata": {},
   "outputs": [],
   "source": [
    "# Problem 1"
   ]
  },
  {
   "cell_type": "code",
   "execution_count": 25,
   "id": "31a383a5",
   "metadata": {},
   "outputs": [
    {
     "name": "stdout",
     "output_type": "stream",
     "text": [
      "Vowel Found  I at index: 0\n",
      "Vowel Found  a at index: 2\n",
      "Consonant Found  m at index: 4\n",
      "Vowel Found  i at index: 5\n",
      "Consonant Found  n at index: 7\n",
      "Consonant Found  t at index: 9\n",
      "Consonant Found  h at index: 10\n",
      "Vowel Found  e at index: 10\n",
      "Consonant Found  p at index: 13\n",
      "Consonant Found  y at index: 14\n",
      "Consonant Found  t at index: 15\n",
      "Consonant Found  h at index: 16\n",
      "Vowel Found  o at index: 16\n",
      "Consonant Found  n at index: 18\n",
      "Vowel Found  e at index: 19\n",
      "Consonant Found  r at index: 21\n",
      "Vowel Found  a at index: 21\n",
      "Consonant Found  f at index: 24\n",
      "Vowel Found  o at index: 24\n",
      "Consonant Found  r at index: 26\n",
      "Consonant Found  G at index: 29\n",
      "\n",
      "Vowels present  in the sentense are:\n",
      "['I', 'a', 'i', 'e', 'o', 'e', 'a', 'o']\n",
      "Index of the vowels present in the sentence :\n",
      "[0, 2, 5, 10, 16, 19, 21, 24]\n",
      "\n",
      "Consonants present  in the sentense are:\n",
      "['m', 'n', 't', 'h', 'p', 'y', 't', 'h', 'n', 'r', 'f', 'r', 'G']\n",
      "Index of the consonants present in the sentence :\n",
      "[3, 6, 8, 9, 12, 13, 14, 15, 17, 20, 23, 25, 28]\n"
     ]
    }
   ],
   "source": [
    "sentence = \"I am in the python era for 5G.\"\n",
    "\n",
    "vowels = []\n",
    "# store the vowels present in the sentence\n",
    "consonants = []\n",
    "# store the consonants present in the sentence\n",
    "\n",
    "vowel_index = []\n",
    "# store the index of vowels present in the sentence\n",
    "consonant_index=[]\n",
    "# store the index of consonants present in the sentence\n",
    "\n",
    "for index, char in enumerate(sentence):\n",
    "    if char.isalpha():              # check if iterated element is an alphabet or not\n",
    "        if char.lower() in 'aeiou':        # check if iterated element is a vowel or not\n",
    "            print(\"Vowel Found \",char,\"at index:\",index)\n",
    "            vowels.append(char)     # appending the vowel to the list\n",
    "            vowel_index.append(index)      # appending the index of the vowel to the list\n",
    "        else:                       # print the other left iterated elements as consonants\n",
    "            print(\"Consonant Found \",char,\"at index:\",index+1)\n",
    "            consonants.append(char) # appending the consonant to the list\n",
    "            consonant_index.append(index)  # appending the index of consonant to the list\n",
    "\n",
    "        \n",
    "print(\"\\nVowels present  in the sentense are:\")\n",
    "print(vowels)\n",
    "print(\"Index of the vowels present in the sentence :\")\n",
    "print(vowel_index)\n",
    "\n",
    "print(\"\\nConsonants present  in the sentense are:\")\n",
    "print(consonants)\n",
    "print(\"Index of the consonants present in the sentence :\")\n",
    "print(consonant_index)\n",
    "\n",
    "# li=list(sentence)\n",
    "# print(li)"
   ]
  },
  {
   "cell_type": "code",
   "execution_count": null,
   "id": "7f7ef4e8",
   "metadata": {},
   "outputs": [],
   "source": [
    "# Problem 2"
   ]
  },
  {
   "cell_type": "code",
   "execution_count": 32,
   "id": "cf2cc7e3",
   "metadata": {},
   "outputs": [
    {
     "name": "stdout",
     "output_type": "stream",
     "text": [
      "Enter your height in meters: 1.7\n",
      "Enter your weight in kilograms: 71\n",
      "Your BMI is : 24.56747404844291\n",
      "Your weight is healthy.\n"
     ]
    }
   ],
   "source": [
    "height = float(input(\"Enter your height in meters: \"))\n",
    "weight = float(input(\"Enter your weight in kilograms: \"))\n",
    "if height<=0 or weight<=0:\n",
    "    print(\"Enter Correc Metrics\")\n",
    "else:\n",
    "    bmi = weight / (height ** 2)\n",
    "\n",
    "print(\"Your BMI is :\",bmi)\n",
    "if bmi < 18.5:\n",
    "    print(\"You are underweight.\")\n",
    "elif 18.5 <= bmi <= 24.9:\n",
    "    print(\"Your weight is healthy.\")\n",
    "elif 25 <= bmi < 29.9:\n",
    "    print(\"You are overweight.\")\n",
    "else:\n",
    "    print(\"You are obese.\")"
   ]
  },
  {
   "cell_type": "code",
   "execution_count": null,
   "id": "cf1a3342",
   "metadata": {},
   "outputs": [],
   "source": [
    "# Problem 3"
   ]
  },
  {
   "cell_type": "code",
   "execution_count": 67,
   "id": "9d3051c2",
   "metadata": {},
   "outputs": [
    {
     "name": "stdout",
     "output_type": "stream",
     "text": [
      "{'first_name': 'rahul', 'last_name': 'kumar', 'id': '123'}\n"
     ]
    }
   ],
   "source": [
    "import re\n",
    "\n",
    "text = \"rahul00kumar0000123000\"\n",
    "\n",
    "regex = r'0+'\n",
    "\n",
    "result = re.split(regex, text)\n",
    "# length = len(result)\n",
    "\n",
    "first_name = result[0]\n",
    "last_name = result[1]\n",
    "id = result[2]\n",
    "\n",
    "res = {\n",
    "    \"first_name\": first_name,\n",
    "    \"last_name\": last_name,\n",
    "    \"id\": id\n",
    "}\n",
    "print(res)"
   ]
  },
  {
   "cell_type": "code",
   "execution_count": null,
   "id": "e5c4b9f9",
   "metadata": {},
   "outputs": [],
   "source": [
    "# Problem 4"
   ]
  },
  {
   "cell_type": "code",
   "execution_count": 66,
   "id": "7ce678da",
   "metadata": {},
   "outputs": [
    {
     "name": "stdout",
     "output_type": "stream",
     "text": [
      "198\n"
     ]
    }
   ],
   "source": [
    "num = 123\n",
    "digit = list(str(num))\n",
    "    \n",
    "smallest = int(''.join(sorted(digit)))\n",
    "largest = int(''.join(sorted(digit, reverse=True)))\n",
    "    \n",
    "difference = largest - smallest\n",
    "\n",
    "print(difference) "
   ]
  },
  {
   "cell_type": "code",
   "execution_count": null,
   "id": "eb86f4d2",
   "metadata": {},
   "outputs": [],
   "source": [
    "# number=int(input(\"Enter a Number: \"))\n",
    "# digit = list(str(number))\n",
    "    \n",
    "# l = len(digit)\n",
    "    \n",
    "# for i in range(l - 1):\n",
    "#     for j in range(0, l - i):\n",
    "#         if digit[j] > digit[j + 1]:\n",
    "#             digit[j], digit[j + 1] = digit[j + 1], digit[j]\n",
    "    \n",
    "# smallest = int(''.join(digit))\n",
    "# largest = int(''.join(digit[::-1]))\n",
    "# difference = largest - smallest\n",
    "# print(difference)\n"
   ]
  },
  {
   "cell_type": "markdown",
   "id": "47df7fe1",
   "metadata": {},
   "source": [
    "<h5>1. members.csv file is having following data\n",
    "\n",
    "Name Age\n",
    "\n",
    "Akash 25\n",
    "\n",
    "Smita 26\n",
    "\n",
    "Raghav 34\n",
    "\n",
    "Snehal 23\n",
    "\n",
    "Ravi 19\n",
    "\n",
    " \n",
    "\n",
    "write a python program to read the csv file and sort age in descending order and save it in csv file</h5>"
   ]
  },
  {
   "cell_type": "code",
   "execution_count": 5,
   "id": "1e3acb61",
   "metadata": {},
   "outputs": [],
   "source": [
    "import pandas as pd\n",
    "\n",
    "df=pd.read_csv(\"members.csv\")\n",
    "# print(df)\n",
    "df=df.sort_values(by='Age',ascending=False)\n",
    "df.to_csv(\"members_sorted.csv\")"
   ]
  },
  {
   "cell_type": "markdown",
   "id": "7968a0c7",
   "metadata": {},
   "source": [
    "<h5>2. read company.json having json data\n",
    "\n",
    "{'Details':[{\n",
    "\n",
    "   \"Name\" : \"Aryan Mishra\",\n",
    "\n",
    "   \"Designation\": \"Sales Engineer\",\n",
    "\n",
    "   \"DOJ\" : \"10/12/22\",\n",
    "\n",
    "},\n",
    "\n",
    "{\n",
    "\n",
    "   \"Name\" : \"Josep Arora\",\n",
    "\n",
    "   \"Designation\": \"Operation Engineer\",\n",
    "\n",
    "   \"DOJ\" : \"24/07/21\",\n",
    "\n",
    "},\n",
    "\n",
    "{\n",
    "\n",
    "   \"Name\" : \"Akash Singh\",\n",
    "\n",
    "   \"Designation\": \"HR\",\n",
    "\n",
    "   \"DOJ\" : \"24/07/21\",\n",
    "\n",
    "}]}\n",
    "\n",
    " \n",
    "\n",
    "and create dictonary having keys as Name, Designation and DOJ and values as list of values with respective the keys</h5>"
   ]
  },
  {
   "cell_type": "code",
   "execution_count": 89,
   "id": "4b28cfcd",
   "metadata": {},
   "outputs": [
    {
     "name": "stdout",
     "output_type": "stream",
     "text": [
      "{'Name': ['Aryan Mishra', 'Josep Arora', 'Akash Singh'], 'Designation': ['Sales Engineer', 'Operation Engineer', 'HR'], 'DOJ': ['10/12/22', '24/07/21', '24/07/21']}\n"
     ]
    }
   ],
   "source": [
    "import json\n",
    "data = open(\"students.json\")\n",
    "content=json.load(data)\n",
    "\n",
    "sample_dict = {\n",
    "    'Name': [],\n",
    "    'Designation': [],\n",
    "    'DOJ': []\n",
    "}\n",
    "\n",
    "for item in content['Details']:\n",
    "    sample_dict['Name'].append(item['Name'])\n",
    "    sample_dict['Designation'].append(item['Designation'])\n",
    "    sample_dict['DOJ'].append(item['DOJ'])\n",
    "\n",
    "print(sample_dict)"
   ]
  },
  {
   "cell_type": "markdown",
   "id": "7586a0a3",
   "metadata": {},
   "source": [
    "<h5>3. read excel file having columns firstname, lastname, date, month, year, college\n",
    "\n",
    "convert into pandas dataframe having columns full name(combination of firstname and lastname), DOB(combination of Day/month/year) and College</h5>"
   ]
  },
  {
   "cell_type": "code",
   "execution_count": 54,
   "id": "018fb026",
   "metadata": {},
   "outputs": [
    {
     "name": "stdout",
     "output_type": "stream",
     "text": [
      "      Full name        DOB College\n",
      "0   rahul singh  17-9-2023     nit\n",
      "1  shyam sharma  16-9-2023     nit\n",
      "2  radha kumari  15-9-2023    niit\n"
     ]
    }
   ],
   "source": [
    "import pandas as pd\n",
    "\n",
    "df = pd.read_excel('sample_data.xlsx')\n",
    "\n",
    "df['Full name'] = df['firstname'] + ' ' + df['lastname']\n",
    "\n",
    "df['DOB'] = df['date'].astype(str) + '-' + df['month'].astype(str) + '-' + df['year'].astype(str)\n",
    "\n",
    "df['College']=df['college']\n",
    "\n",
    "df = df[['Full name', 'DOB', 'College']]\n",
    "\n",
    "print(df)"
   ]
  },
  {
   "cell_type": "markdown",
   "id": "8e93a344",
   "metadata": {},
   "source": [
    "<h5>the contents of a csv file are as follows:\n",
    "\n",
    "rahul,maths,99\n",
    "rahul,english,88\n",
    "priyanka,english,90\n",
    "subba,physics,99\n",
    "\n",
    "wap in python to display output as follows: \n",
    "\n",
    "Rahul-\n",
    "\tEnglish - 88 \tGrade - A2\n",
    "\tMaths\t- 99    Grade - A1\n",
    "Your average score is 87%\n",
    "\n",
    "also print how many kids got pass and whats the overall sucess ration in terms of each subject</h5>"
   ]
  },
  {
   "cell_type": "code",
   "execution_count": 113,
   "id": "84976661",
   "metadata": {},
   "outputs": [
    {
     "name": "stdout",
     "output_type": "stream",
     "text": [
      "Rahul-\n",
      "\tMaths - 99\tGrade - A1\n",
      "\tEnglish - 88\tGrade - A2\n",
      "Priyanka-\n",
      "\tEnglish - 90\tGrade - A1\n",
      "Subba-\n",
      "\tPhysics - 99\tGrade - A1\n",
      "Your average score is 94.0%\n",
      "Pass counts for each subject: {'Maths': 1, 'English': 2, 'Physics': 1}\n",
      "Overall success ratio: 100.0%\n"
     ]
    }
   ],
   "source": [
    "# data = [\n",
    "#     (\"rahul\", \"maths\", 99),\n",
    "#     (\"rahul\", \"english\", 88),\n",
    "#     (\"priyanka\", \"english\", 90),\n",
    "#     (\"subba\", \"physics\", 99)\n",
    "# ]\n",
    "\n",
    "# subject_scores = {}\n",
    "# student_scores = {}\n",
    "\n",
    "# for name, subject, score in data:\n",
    "#     subject = subject.capitalize()\n",
    "#     name = name.caitalize()\n",
    "\n",
    "#     if name not in student_scores:\n",
    "#         student_scores[name] = []\n",
    "\n",
    "#     student_scores[name].append((subject, score))\n",
    "\n",
    "#     if subject not in subject_scores:\n",
    "#         subject_scores[subject] = []\n",
    "\n",
    "#     subject_scores[subject].append(score)\n",
    "\n",
    "# subject_averages = {}\n",
    "# for subject, scores in subject_scores.items():\n",
    "#     subject_averages[subject] = sum(scores) / len(scores)\n",
    "\n",
    "# total_scores = [score for scores in student_scores.values() for _, score in scores]\n",
    "# average_score = sum(total_scores) / len(total_scores)\n",
    "\n",
    "# for student, scores in student_scores.items():\n",
    "#     print(f\"{student}-\")\n",
    "#     for subject, score in scores:\n",
    "#         grade = \"\"\n",
    "#         if score >= 90:\n",
    "#             grade = \"A1\"\n",
    "#         elif score >= 80:\n",
    "#             grade = \"A2\"\n",
    "#         elif score >= 70:\n",
    "#             grade = \"B1\"\n",
    "#         elif score >= 60:\n",
    "#             grade = \"B2\"\n",
    "#         else:\n",
    "#             grade = \"C\"\n",
    "\n",
    "#         print(f\"\\t{subject} - {score}\\tGrade - {grade}\")\n",
    "\n",
    "# pass_counts = {subject: sum(1 for score in scores if score >= 40) for subject, scores in subject_scores.items()}\n",
    "\n",
    "# total_students = len(student_scores)\n",
    "# overall_success_ratio = sum(1 for scores in student_scores.values() if all(score >= 40 for _, score in scores)) / total_students * 100\n",
    "\n",
    "# print(f\"Your average score is {average_score}%\")\n",
    "# print(f\"Pass counts for each subject: {pass_counts}\")\n",
    "# print(f\"Overall success ratio: {overall_success_ratio}%\")\n"
   ]
  },
  {
   "cell_type": "markdown",
   "id": "b1987df9",
   "metadata": {},
   "source": [
    "<h5>1. Write a function in python to read the content from a text file \"poem.txt\" line by line and display the same on screen.\n",
    "\n",
    " \n",
    "\n",
    "while printing - count the number of words and dispay number of words in a line</h5>"
   ]
  },
  {
   "cell_type": "code",
   "execution_count": 122,
   "id": "fb8199b0",
   "metadata": {},
   "outputs": [
    {
     "name": "stdout",
     "output_type": "stream",
     "text": [
      "1:Sometimes, ms elongate,\n",
      " (Word Count: 3)\n",
      "2:grow long tongues to taste the last bit \n",
      " (Word Count: 8)\n",
      "3:of breath my body has to offer.\n",
      " (Word Count: 7)\n",
      "4:\n",
      " (Word Count: 0)\n",
      "5:Sometimes, is echo \n",
      " (Word Count: 3)\n",
      "6:like the harsh cries of a seagull, \n",
      " (Word Count: 7)\n",
      "7:try to fly far away from the nest of my mouth\n",
      " (Word Count: 11)\n",
      "8:only to circle the ocean of my... (Word Count: 7)\n"
     ]
    }
   ],
   "source": [
    "def display(filename):\n",
    "    file=open(filename,\"r\")\n",
    "    n = 1\n",
    "    for line in file:\n",
    "        words = line.split()\n",
    "        count = len(words)\n",
    "        print(f\"{n}:{line} (Word Count: {count})\")\n",
    "        n += 1\n",
    "    \n",
    "display(\"poem.txt\")"
   ]
  },
  {
   "cell_type": "markdown",
   "id": "61c78276",
   "metadata": {},
   "source": [
    "<h5>2. Write a function in python to count the number of lines from a text file \"story.txt\" which is not starting with an alphabet \"T\".\n",
    "\n",
    " \n",
    "\n",
    "Example: If the file \"story.txt\" contains the following lines: A boy is playing there.\n",
    "There is a playground.\n",
    "An aeroplane is in the sky.\n",
    "The sky is pink.\n",
    "Alphabets and numbers are allowed in the password.\n",
    "The function should display the output as 3\n",
    "</h5>"
   ]
  },
  {
   "cell_type": "code",
   "execution_count": 123,
   "id": "8bf5fc94",
   "metadata": {},
   "outputs": [
    {
     "name": "stdout",
     "output_type": "stream",
     "text": [
      "Lines not starting with 'T' or 't' are :  3\n"
     ]
    }
   ],
   "source": [
    "def display(filename):\n",
    "    file1=open(filename,\"r\")\n",
    "    count=0\n",
    "    for line in file1:\n",
    "        if not line.strip().startswith('T') and not line.strip().startswith('t'):\n",
    "            count += 1\n",
    "\n",
    "    print(\"Lines not starting with 'T' or 't' are : \",count)\n",
    "\n",
    "display(\"story.txt\")"
   ]
  },
  {
   "cell_type": "markdown",
   "id": "fa159311",
   "metadata": {},
   "source": [
    "<h5>3. Write a function in Python to read lines from a text file \"notes.txt\". Your function should find and display the occurrence of the word \"the\".\n",
    "\n",
    " \n",
    "\n",
    "For example: If the content of the file is:\n",
    "\"India is the fastest-growing economy. India is looking for more investments around the globe. The whole world is looking at India as a great market. Most of the Indians can foresee the heights that India is capable of reaching.\"\n",
    "\n",
    " \n",
    "\n",
    "The output should be 5</h5>"
   ]
  },
  {
   "cell_type": "code",
   "execution_count": 100,
   "id": "1cbc8309",
   "metadata": {},
   "outputs": [
    {
     "name": "stdout",
     "output_type": "stream",
     "text": [
      "5\n"
     ]
    }
   ],
   "source": [
    "def display(filename):\n",
    "    file3=open(filename,\"r\")\n",
    "    content=file3.read()\n",
    "    count=content.lower().count(\"the\")\n",
    "    print(count)\n",
    "\n",
    "display(\"notes.txt\")"
   ]
  },
  {
   "cell_type": "markdown",
   "id": "bc69d033",
   "metadata": {},
   "source": [
    "<h5>4. Write a function display_words() in python to read lines from a text file \"story.txt\", and display those words, which are less than 4 characters.</h5>"
   ]
  },
  {
   "cell_type": "code",
   "execution_count": 106,
   "id": "e7931117",
   "metadata": {},
   "outputs": [
    {
     "name": "stdout",
     "output_type": "stream",
     "text": [
      "A\n",
      "boy\n",
      "is\n",
      "is\n",
      "a\n",
      "An\n",
      "is\n",
      "in\n",
      "the\n",
      "The\n",
      "sky\n",
      "is\n",
      "and\n",
      "are\n",
      "in\n",
      "the\n"
     ]
    }
   ],
   "source": [
    "def display_words(filename):\n",
    "    file4=open(filename,\"r\")\n",
    "    for line in file4:\n",
    "        words=line.split()\n",
    "        for word in words:\n",
    "            if len(word)<4:\n",
    "                print(word)\n",
    "\n",
    "display_words(\"story.txt\")"
   ]
  },
  {
   "cell_type": "markdown",
   "id": "b8fdbaf0",
   "metadata": {},
   "source": [
    "<h5>5.\n",
    "A text file named \"matter.txt\" contains some text, which needs to be displayed such that every next character is separated by a symbol \"#\". Write a function definition for hash_display() in Python that would display the entire content of the file matter.txt in the desired format.\n",
    "\n",
    " \n",
    "\n",
    "Example :\n",
    "If the file matter.txt has the following content stored in it :\n",
    "THE WORLD IS ROUND\n",
    "\n",
    " \n",
    "\n",
    "The function hash_display() should display the following content :\n",
    "T#H#E# #W#O#R#L#D# #I#S# #R#O#U#N#D#</h5>"
   ]
  },
  {
   "cell_type": "code",
   "execution_count": 107,
   "id": "ed90e6e2",
   "metadata": {},
   "outputs": [
    {
     "name": "stdout",
     "output_type": "stream",
     "text": [
      "T#H#E# #W#O#R#L#D# #I#S# #R#O#U#N#D\n"
     ]
    }
   ],
   "source": [
    "def hash_display(filename):\n",
    "    file5=open(filename,\"r\")\n",
    "    content=file5.read()\n",
    "    updated=\"#\".join(content)\n",
    "    print(updated)\n",
    "\n",
    "hash_display(\"matter.txt\")"
   ]
  },
  {
   "cell_type": "markdown",
   "id": "3b88d34b",
   "metadata": {},
   "source": [
    "<h5>6. Aditi has used a text editing software to type some text. After saving the article as WORDS.TXT, she realised that she has wrongly typed alphabet J in place of alphabet I everywhere in the article.\n",
    "\n",
    " \n",
    "\n",
    "Write a function definition for JTOI() in Python that would display the corrected version of entire content of the file WORDS.TXT with all the alphabets \"J\" to be displayed as an alphabet \"I\" on screen.\n",
    "\n",
    " \n",
    "\n",
    "Note: Assuming that WORD.TXT does not contain any J alphabet otherwise.\n",
    "\n",
    " \n",
    "\n",
    "Example:\n",
    "If Aditi has stored the following content in the file WORDS.TXT:\n",
    "WELL, THJS JS A WORD BY JTSELF. YOU COULD STRETCH THJS TO BE A SENTENCE\n",
    "The function JTOI() should display the following content:\n",
    "WELL, THIS IS A WORD BY ITSELF. YOU COULD STRETCH THIS TO BE A SENTENCE</h5>"
   ]
  },
  {
   "cell_type": "code",
   "execution_count": 110,
   "id": "00c2899d",
   "metadata": {},
   "outputs": [
    {
     "name": "stdout",
     "output_type": "stream",
     "text": [
      "WELL, THIS IS A WORD BY ITSELF. YOU COULD STRETCH THIS TO BE A SENTENCE\n",
      "Well how was your day. it is very cold outside.\n"
     ]
    }
   ],
   "source": [
    "def jtoi(filename):\n",
    "    file6=open(filename,\"r\")\n",
    "    content=file6.read()\n",
    "    updated=content.replace('J','I').replace('j','i')\n",
    "    print(updated)\n",
    "\n",
    "jtoi(\"words.txt\")"
   ]
  },
  {
   "cell_type": "markdown",
   "id": "483c11bf",
   "metadata": {},
   "source": [
    "<h5>7. Write a function AMCount() in Python, which should read each character of a text file STORY.TXT, should count and display the occurance of alphabets A and M (including small cases a and m too).\n",
    "For Example:\n",
    "If the file content is as follows:\n",
    "Updated information\n",
    "As simplified by official websites.\n",
    "The EUCount() function should display the output as:\n",
    "A or a:4\n",
    "M or m :2</h5>"
   ]
  },
  {
   "cell_type": "code",
   "execution_count": 112,
   "id": "fdc5d460",
   "metadata": {},
   "outputs": [
    {
     "name": "stdout",
     "output_type": "stream",
     "text": [
      "A or a :  13\n",
      "M or m :  1\n"
     ]
    }
   ],
   "source": [
    "def AMcount(filename):\n",
    "    file7=open(filename,\"r\")\n",
    "    content=file7.read()\n",
    "    count1=content.count('A') + content.count('a')\n",
    "    count2=content.count('M') + content.count('m')\n",
    "    print(\"A or a : \",count1)\n",
    "    print(\"M or m : \",count2)\n",
    "AMcount(\"story.txt\")"
   ]
  },
  {
   "cell_type": "markdown",
   "id": "e5fd3387",
   "metadata": {},
   "source": [
    "<h5>1. we have 52 weeks in a year write a python code to get current week number (currently the 38 week)\n",
    "    </h5>\n",
    "<h5>2. date = 2023-08-01T02:00:24 convert into DD/MM/YY format and find the difference b/w current date and date mentioned\n",
    "    </h5>\n",
    "<h5>3. get current date and time and find last 24 hr date and time (if date_now = 20-09-2023 05:10:45, before 24hr_date = 19-09-2023 05:10:45)and next 24 hr date and time \n",
    "    </h5>\n",
    "<h5>4. [\"2023-06-23T05:04:00\",\"2023-07-09T14:00:00\",\"2023-02-13T34:23:04\",\"2023-04-19T07:15:00\",......] WPP to get all dates in a list using list comprension like [\"2023-06-09\",.......] and WPP create method which will give you all list of dates \n",
    "    </h5>\n",
    "<h5>5. create a class which is having methods of addition, subtraction, multiplication, division of multiple numbers</h5>"
   ]
  },
  {
   "cell_type": "code",
   "execution_count": 9,
   "id": "31c3cff1",
   "metadata": {},
   "outputs": [
    {
     "name": "stdout",
     "output_type": "stream",
     "text": [
      "2023-09-20\n",
      "Current Week Number: 38\n"
     ]
    }
   ],
   "source": [
    "import datetime\n",
    "\n",
    "date = datetime.date.today()\n",
    "print(date)\n",
    "week_number = date.strftime(\"%U\")\n",
    "print(\"Current Week Number:\", week_number)"
   ]
  },
  {
   "cell_type": "code",
   "execution_count": 57,
   "id": "2634c8a1",
   "metadata": {},
   "outputs": [
    {
     "name": "stdout",
     "output_type": "stream",
     "text": [
      "2023-08-01 02:00:24\n",
      "2023-09-27 08:43:05.680773\n",
      "Formatted date: 01/08/23\n",
      "Time difference: 57 days, 6:42:41.680773\n"
     ]
    }
   ],
   "source": [
    "from datetime import datetime\n",
    "\n",
    "date_str = \"2023-08-01T02:00:24\"\n",
    "date_obj = datetime.strptime(date_str, \"%Y-%m-%dT%H:%M:%S\")\n",
    "print(date_obj)\n",
    "current_date = datetime.now()\n",
    "print(current_date)\n",
    "\n",
    "formatted_date = date_obj.strftime(\"%d/%m/%y\")\n",
    "print(\"Formatted date:\", formatted_date)\n",
    "\n",
    "time_difference = current_date - date_obj\n",
    "print(\"Time difference:\", time_difference)"
   ]
  },
  {
   "cell_type": "code",
   "execution_count": 2,
   "id": "624938f8",
   "metadata": {},
   "outputs": [
    {
     "name": "stdout",
     "output_type": "stream",
     "text": [
      "Current date and time: 2023-09-27 08:37:17.446265\n",
      "Previous 24 hr date and time: 2023-09-26 08:37:17.446265\n",
      "Next 24 hr date and time: 2023-09-28 08:37:17.446265\n"
     ]
    }
   ],
   "source": [
    "from datetime import datetime, timedelta\n",
    "\n",
    "current_date = datetime.now()\n",
    "previous_24_hr_date = current_date - timedelta(hours=24)\n",
    "next_24_hr_date = current_date + timedelta(hours=24)\n",
    "\n",
    "print(\"Current date and time:\", current_date)\n",
    "print(\"Previous 24 hr date and time:\", previous_24_hr_date)\n",
    "print(\"Next 24 hr date and time:\", next_24_hr_date)"
   ]
  },
  {
   "cell_type": "code",
   "execution_count": 59,
   "id": "54620418",
   "metadata": {},
   "outputs": [
    {
     "name": "stdout",
     "output_type": "stream",
     "text": [
      "['2023-06-23', '2023-07-09', '2023-02-13', '2023-04-19']\n"
     ]
    }
   ],
   "source": [
    "date_time_list = [\"2023-06-23T05:04:00\", \"2023-07-09T14:00:00\", \"2023-02-13T04:23:04\", \"2023-04-19T07:15:00\"]\n",
    "date_list = [datetime.strptime(date_str, \"%Y-%m-%dT%H:%M:%S\").strftime(\"%Y-%m-%d\") for date_str in date_time_list]\n",
    "print(date_list)"
   ]
  },
  {
   "cell_type": "code",
   "execution_count": 58,
   "id": "a6df7ad7",
   "metadata": {},
   "outputs": [
    {
     "name": "stdout",
     "output_type": "stream",
     "text": [
      "Addition of 2 numbers:  8\n",
      "Subtraction of 2 numbers:  7\n",
      "Multiplication of n Numbers:  8\n",
      "Division of 2 numbers: 4.0\n"
     ]
    }
   ],
   "source": [
    "class Calculator:\n",
    "    def add(self,a,b):\n",
    "        return a+b\n",
    "\n",
    "    def subtract(self,a, b):\n",
    "        return a - b\n",
    "\n",
    "    def multiply(self,a,b):\n",
    "        result = 1\n",
    "        return a*b\n",
    "\n",
    "    def divide(self,a, b):\n",
    "        try:\n",
    "            return a/b\n",
    "        except:\n",
    "            return \"division by 0 not possible\"\n",
    "\n",
    "c = Calculator()\n",
    "print(\"Addition of 2 numbers: \", c.add(5, 3))\n",
    "print(\"Subtraction of 2 numbers: \", c.subtract(10, 3))\n",
    "print(\"Multiplication of n Numbers: \", c.multiply(2, 4))\n",
    "print(\"Division of 2 numbers:\", c.divide(8, 2))\n"
   ]
  }
 ],
 "metadata": {
  "kernelspec": {
   "display_name": "Python 3 (ipykernel)",
   "language": "python",
   "name": "python3"
  },
  "language_info": {
   "codemirror_mode": {
    "name": "ipython",
    "version": 3
   },
   "file_extension": ".py",
   "mimetype": "text/x-python",
   "name": "python",
   "nbconvert_exporter": "python",
   "pygments_lexer": "ipython3",
   "version": "3.11.4"
  }
 },
 "nbformat": 4,
 "nbformat_minor": 5
}
