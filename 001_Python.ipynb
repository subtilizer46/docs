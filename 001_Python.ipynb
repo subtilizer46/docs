{
 "cells": [
  {
   "cell_type": "code",
   "execution_count": null,
   "id": "a9198dc5",
   "metadata": {},
   "outputs": [],
   "source": [
    "# How to print hello World?"
   ]
  },
  {
   "cell_type": "code",
   "execution_count": null,
   "id": "577b1bf1",
   "metadata": {},
   "outputs": [],
   "source": [
    "# What is the print?"
   ]
  },
  {
   "cell_type": "code",
   "execution_count": null,
   "id": "595f0619",
   "metadata": {},
   "outputs": [],
   "source": [
    "# commenting"
   ]
  },
  {
   "cell_type": "code",
   "execution_count": null,
   "id": "09d4dd31",
   "metadata": {},
   "outputs": [],
   "source": [
    "# Print - Function"
   ]
  },
  {
   "cell_type": "code",
   "execution_count": null,
   "id": "6acba5e6",
   "metadata": {},
   "outputs": [],
   "source": [
    "print()"
   ]
  },
  {
   "cell_type": "code",
   "execution_count": null,
   "id": "901ce75d",
   "metadata": {},
   "outputs": [],
   "source": [
    "print(helloworld)"
   ]
  },
  {
   "cell_type": "code",
   "execution_count": null,
   "id": "ed725f9b",
   "metadata": {},
   "outputs": [],
   "source": [
    "print(\"helloworld\")"
   ]
  },
  {
   "cell_type": "code",
   "execution_count": null,
   "id": "f04f22a0",
   "metadata": {},
   "outputs": [],
   "source": [
    "print(helloworld)"
   ]
  },
  {
   "cell_type": "code",
   "execution_count": null,
   "id": "604e8760",
   "metadata": {},
   "outputs": [],
   "source": [
    "helloworld=\"Alex\"\n",
    "print(helloworld)"
   ]
  },
  {
   "cell_type": "code",
   "execution_count": null,
   "id": "781355b0",
   "metadata": {},
   "outputs": [],
   "source": [
    "name=\"Alex\"\n",
    "print(name)"
   ]
  },
  {
   "cell_type": "code",
   "execution_count": null,
   "id": "3aba7dfa",
   "metadata": {},
   "outputs": [],
   "source": [
    "print(\"1+2\")"
   ]
  },
  {
   "cell_type": "code",
   "execution_count": null,
   "id": "7249421a",
   "metadata": {},
   "outputs": [],
   "source": [
    "print(1+2)"
   ]
  },
  {
   "cell_type": "code",
   "execution_count": null,
   "id": "997f2e68",
   "metadata": {},
   "outputs": [],
   "source": [
    "print(\"Hello\")\n",
    "print(\"World\")"
   ]
  },
  {
   "cell_type": "code",
   "execution_count": null,
   "id": "1c94b08d",
   "metadata": {},
   "outputs": [],
   "source": [
    "# end parameter"
   ]
  },
  {
   "cell_type": "code",
   "execution_count": null,
   "id": "6a02a2df",
   "metadata": {},
   "outputs": [],
   "source": [
    "print(\"Hello\",end=\"\")\n",
    "print(\"World\")"
   ]
  },
  {
   "cell_type": "code",
   "execution_count": null,
   "id": "cb62943c",
   "metadata": {},
   "outputs": [],
   "source": [
    "print(\"Hello\",end=\" \")\n",
    "print(\"World\")"
   ]
  },
  {
   "cell_type": "code",
   "execution_count": null,
   "id": "47beb822",
   "metadata": {},
   "outputs": [],
   "source": [
    "print(\"Hello\",end=\"@\")\n",
    "print(\"World\")"
   ]
  },
  {
   "cell_type": "code",
   "execution_count": null,
   "id": "0954b18e",
   "metadata": {},
   "outputs": [],
   "source": [
    "# Variable"
   ]
  },
  {
   "cell_type": "code",
   "execution_count": null,
   "id": "dee365be",
   "metadata": {},
   "outputs": [],
   "source": [
    "ab_=\"name\"\n",
    "print(ab_)"
   ]
  },
  {
   "cell_type": "code",
   "execution_count": null,
   "id": "b7d115ba",
   "metadata": {},
   "outputs": [],
   "source": [
    "ab_=\"name\"\n",
    "print(ab_)"
   ]
  },
  {
   "cell_type": "code",
   "execution_count": null,
   "id": "4e0592ac",
   "metadata": {},
   "outputs": [],
   "source": [
    "# Underscore is allowed"
   ]
  },
  {
   "cell_type": "code",
   "execution_count": null,
   "id": "ba54c1f8",
   "metadata": {},
   "outputs": [],
   "source": [
    "12ab=\"Alex\"\n",
    "print(12ab)"
   ]
  },
  {
   "cell_type": "code",
   "execution_count": null,
   "id": "7ad389ef",
   "metadata": {},
   "outputs": [],
   "source": [
    "# SyntaxError"
   ]
  },
  {
   "cell_type": "code",
   "execution_count": null,
   "id": "154b9541",
   "metadata": {},
   "outputs": [],
   "source": [
    "# SyntaxError - We are not following python rules"
   ]
  },
  {
   "cell_type": "code",
   "execution_count": null,
   "id": "36e83ef9",
   "metadata": {},
   "outputs": [],
   "source": [
    "ab12=\"Alex\"\n",
    "print(ab12)"
   ]
  },
  {
   "cell_type": "code",
   "execution_count": null,
   "id": "64bfbae5",
   "metadata": {},
   "outputs": [],
   "source": [
    "# WAPP to caculate simple interest"
   ]
  },
  {
   "cell_type": "code",
   "execution_count": null,
   "id": "0f981186",
   "metadata": {},
   "outputs": [],
   "source": [
    "# Input\n",
    "p = 5000\n",
    "t = 4\n",
    "r = 8\n",
    "\n",
    "# Logic\n",
    "si = p*t*r/100\n",
    "\n",
    "# Output\n",
    "print(si)"
   ]
  },
  {
   "cell_type": "code",
   "execution_count": null,
   "id": "45a72338",
   "metadata": {},
   "outputs": [],
   "source": [
    "# Algorithm"
   ]
  },
  {
   "cell_type": "code",
   "execution_count": null,
   "id": "05bed3b4",
   "metadata": {},
   "outputs": [],
   "source": [
    "p = 5000\n",
    "t = 4\n",
    "r = 8\n",
    "\n",
    "si = p*t*r/100\n",
    "\n",
    "print(si)"
   ]
  },
  {
   "cell_type": "code",
   "execution_count": null,
   "id": "7823c12a",
   "metadata": {},
   "outputs": [],
   "source": [
    "p = 5000\n",
    "t = 4\n",
    "r = 8\n",
    "\n",
    "si = p*t*r/100\n",
    "\n",
    "print(\"Your interest is \",si)"
   ]
  },
  {
   "cell_type": "code",
   "execution_count": null,
   "id": "aab2bdbc",
   "metadata": {},
   "outputs": [],
   "source": [
    "p = 5000\n",
    "t = 4\n",
    "r = 8\n",
    "\n",
    "si = p*t*r/100\n",
    "\n",
    "print(\"Your interest is \",si,\"after\",t,\"years.\")"
   ]
  },
  {
   "cell_type": "code",
   "execution_count": null,
   "id": "f8f61801",
   "metadata": {},
   "outputs": [],
   "source": [
    "p = 50000\n",
    "t = 4\n",
    "r = 8\n",
    "\n",
    "si = p*t*r/100\n",
    "\n",
    "print(\"Your interest is \",si,\"after\",t,\"years.\")\n",
    "print(\"The total amount you will getting is: \",si+p)"
   ]
  },
  {
   "cell_type": "code",
   "execution_count": 1,
   "id": "fbd6239a",
   "metadata": {},
   "outputs": [
    {
     "name": "stdout",
     "output_type": "stream",
     "text": [
      "Enter the deposit amount: 10000\n",
      "Enter the time - in year: 8\n",
      "Enter the rate in percetange: 7\n",
      "Your interest is  5600.0 after 8 years.\n",
      "The total amount you will getting is:  15600.0\n"
     ]
    }
   ],
   "source": [
    "p = int(input(\"Enter the deposit amount: \"))\n",
    "t = int(input(\"Enter the time - in year: \"))\n",
    "r = int(input(\"Enter the rate in percetange: \"))\n",
    "\n",
    "si = p*t*r/100\n",
    "\n",
    "print(\"Your interest is \",si,\"after\",t,\"years.\")\n",
    "print(\"The total amount you will getting is: \",si+p)"
   ]
  },
  {
   "cell_type": "code",
   "execution_count": 2,
   "id": "d7138be3",
   "metadata": {},
   "outputs": [],
   "source": [
    "# -- Topic Covered --\n",
    "# 1. print()\n",
    "# 2. end=\"\"\n",
    "# 3. variables\n",
    "# 4. inputs\n",
    "# 5. Algorithm\n",
    "# 6. int()\n",
    "# 7. SyntaxError\n",
    "# 8. NameError\n",
    "# 9. TypeError\n",
    "# 10. HTML in Jupyter\n",
    "# 11. How to start jupyter notebook\n",
    "# 12. How to clear the output using kernal\n",
    "# 13. Comments \n",
    "# 14. input()\n",
    "# 15. print with multiple values\n",
    "# 16. Simple interest progran"
   ]
  },
  {
   "cell_type": "code",
   "execution_count": 3,
   "id": "043abc0a",
   "metadata": {},
   "outputs": [],
   "source": [
    "# Variable = Person"
   ]
  },
  {
   "cell_type": "code",
   "execution_count": 4,
   "id": "25faa1f8",
   "metadata": {},
   "outputs": [],
   "source": [
    "# Variables = Person Name"
   ]
  },
  {
   "cell_type": "code",
   "execution_count": 5,
   "id": "00500acd",
   "metadata": {},
   "outputs": [],
   "source": [
    "# Variables Type = Gender"
   ]
  },
  {
   "cell_type": "code",
   "execution_count": 6,
   "id": "78568e0b",
   "metadata": {},
   "outputs": [],
   "source": [
    "# Last Program on Varible"
   ]
  },
  {
   "cell_type": "code",
   "execution_count": 7,
   "id": "688fda97",
   "metadata": {},
   "outputs": [],
   "source": [
    "# WAPP to calculate Area of circle"
   ]
  },
  {
   "cell_type": "code",
   "execution_count": 8,
   "id": "d99547cf",
   "metadata": {},
   "outputs": [],
   "source": [
    "# Points "
   ]
  },
  {
   "cell_type": "code",
   "execution_count": 9,
   "id": "515cf4a2",
   "metadata": {},
   "outputs": [],
   "source": [
    "# 20 Points"
   ]
  },
  {
   "cell_type": "code",
   "execution_count": 10,
   "id": "92aa4740",
   "metadata": {},
   "outputs": [],
   "source": [
    "# Rahul Singh- 20P"
   ]
  },
  {
   "cell_type": "code",
   "execution_count": null,
   "id": "fa8a9dea",
   "metadata": {},
   "outputs": [],
   "source": [
    "# First Way"
   ]
  },
  {
   "cell_type": "code",
   "execution_count": 11,
   "id": "c8fbb3e5",
   "metadata": {},
   "outputs": [
    {
     "name": "stdout",
     "output_type": "stream",
     "text": [
      "314.0\n"
     ]
    }
   ],
   "source": [
    "# Input\n",
    "PI = 3.14\n",
    "r = 10\n",
    "\n",
    "# Logic\n",
    "aoc=PI*r*r\n",
    "\n",
    "# Output\n",
    "print(aoc)"
   ]
  },
  {
   "cell_type": "code",
   "execution_count": 12,
   "id": "b5306f7e",
   "metadata": {},
   "outputs": [
    {
     "name": "stdout",
     "output_type": "stream",
     "text": [
      "314.0\n"
     ]
    }
   ],
   "source": [
    "# Input\n",
    "PI = 3.14\n",
    "r = 10\n",
    "\n",
    "# Logic\n",
    "aoc=PI*r*r\n",
    "\n",
    "# Output\n",
    "print(aoc)"
   ]
  },
  {
   "attachments": {
    "image.png": {
     "image/png": "[encoded data removed]"
    }
   },
   "cell_type": "markdown",
   "id": "86f8d7cb",
   "metadata": {},
   "source": [
    "![image.png](attachment:image.png)"
   ]
  },
  {
   "cell_type": "code",
   "execution_count": 13,
   "id": "d30834e7",
   "metadata": {},
   "outputs": [
    {
     "name": "stdout",
     "output_type": "stream",
     "text": [
      "314.0\n"
     ]
    }
   ],
   "source": [
    "# Input\n",
    "PI = 3.14\n",
    "r = 10\n",
    "\n",
    "# Logic\n",
    "aoc=PI*r**2\n",
    "\n",
    "# Output\n",
    "print(aoc)"
   ]
  },
  {
   "cell_type": "code",
   "execution_count": 14,
   "id": "8cd0e2db",
   "metadata": {},
   "outputs": [
    {
     "data": {
      "text/plain": [
       "4"
      ]
     },
     "execution_count": 14,
     "metadata": {},
     "output_type": "execute_result"
    }
   ],
   "source": [
    "2**2"
   ]
  },
  {
   "cell_type": "code",
   "execution_count": 15,
   "id": "fa0a041b",
   "metadata": {},
   "outputs": [
    {
     "data": {
      "text/plain": [
       "8"
      ]
     },
     "execution_count": 15,
     "metadata": {},
     "output_type": "execute_result"
    }
   ],
   "source": [
    "2**3"
   ]
  },
  {
   "cell_type": "code",
   "execution_count": 16,
   "id": "c45dffb1",
   "metadata": {},
   "outputs": [],
   "source": [
    "# Exponents"
   ]
  },
  {
   "cell_type": "code",
   "execution_count": 17,
   "id": "cbe7d195",
   "metadata": {},
   "outputs": [],
   "source": [
    "# If condition"
   ]
  },
  {
   "cell_type": "code",
   "execution_count": 18,
   "id": "eb604336",
   "metadata": {},
   "outputs": [],
   "source": [
    "# 1. Conditional Statement"
   ]
  },
  {
   "cell_type": "code",
   "execution_count": null,
   "id": "c7f5c115",
   "metadata": {},
   "outputs": [],
   "source": [
    "if condition:\n",
    "    statements"
   ]
  },
  {
   "cell_type": "code",
   "execution_count": 19,
   "id": "f006ca40",
   "metadata": {},
   "outputs": [],
   "source": [
    "# keywords"
   ]
  },
  {
   "cell_type": "code",
   "execution_count": 20,
   "id": "ca0ded9b",
   "metadata": {},
   "outputs": [],
   "source": [
    "# keyword in Java "
   ]
  },
  {
   "cell_type": "code",
   "execution_count": 21,
   "id": "0a4f4cd1",
   "metadata": {},
   "outputs": [],
   "source": [
    "# 50"
   ]
  },
  {
   "cell_type": "code",
   "execution_count": 22,
   "id": "5dfb5f01",
   "metadata": {},
   "outputs": [],
   "source": [
    "# keywords in Python"
   ]
  },
  {
   "cell_type": "code",
   "execution_count": 23,
   "id": "f8c5e572",
   "metadata": {},
   "outputs": [
    {
     "name": "stdout",
     "output_type": "stream",
     "text": [
      "\n",
      "Here is a list of the Python keywords.  Enter any keyword to get more help.\n",
      "\n",
      "False               class               from                or\n",
      "None                continue            global              pass\n",
      "True                def                 if                  raise\n",
      "and                 del                 import              return\n",
      "as                  elif                in                  try\n",
      "assert              else                is                  while\n",
      "async               except              lambda              with\n",
      "await               finally             nonlocal            yield\n",
      "break               for                 not                 \n",
      "\n"
     ]
    }
   ],
   "source": [
    "help(\"keywords\")"
   ]
  },
  {
   "cell_type": "code",
   "execution_count": 24,
   "id": "4b6b179d",
   "metadata": {},
   "outputs": [
    {
     "name": "stdout",
     "output_type": "stream",
     "text": [
      "The \"if\" statement\n",
      "******************\n",
      "\n",
      "The \"if\" statement is used for conditional execution:\n",
      "\n",
      "   if_stmt ::= \"if\" assignment_expression \":\" suite\n",
      "               (\"elif\" assignment_expression \":\" suite)*\n",
      "               [\"else\" \":\" suite]\n",
      "\n",
      "It selects exactly one of the suites by evaluating the expressions one\n",
      "by one until one is found to be true (see section Boolean operations\n",
      "for the definition of true and false); then that suite is executed\n",
      "(and no other part of the \"if\" statement is executed or evaluated).\n",
      "If all expressions are false, the suite of the \"else\" clause, if\n",
      "present, is executed.\n",
      "\n",
      "Related help topics: TRUTHVALUE\n",
      "\n"
     ]
    }
   ],
   "source": [
    "help(\"if\")"
   ]
  },
  {
   "cell_type": "code",
   "execution_count": 25,
   "id": "87d7873b",
   "metadata": {},
   "outputs": [
    {
     "name": "stdout",
     "output_type": "stream",
     "text": [
      "The \"pass\" statement\n",
      "********************\n",
      "\n",
      "   pass_stmt ::= \"pass\"\n",
      "\n",
      "\"pass\" is a null operation — when it is executed, nothing happens. It\n",
      "is useful as a placeholder when a statement is required syntactically,\n",
      "but no code needs to be executed, for example:\n",
      "\n",
      "   def f(arg): pass    # a function that does nothing (yet)\n",
      "\n",
      "   class C: pass       # a class with no methods (yet)\n",
      "\n"
     ]
    }
   ],
   "source": [
    "help(\"pass\")"
   ]
  },
  {
   "cell_type": "code",
   "execution_count": 26,
   "id": "d5c95123",
   "metadata": {},
   "outputs": [],
   "source": [
    "# Example - 1"
   ]
  },
  {
   "cell_type": "code",
   "execution_count": 27,
   "id": "d717ae06",
   "metadata": {},
   "outputs": [],
   "source": [
    "if 1>2:\n",
    "    print(\"Hello world\")"
   ]
  },
  {
   "cell_type": "code",
   "execution_count": 28,
   "id": "4ab0ac20",
   "metadata": {},
   "outputs": [
    {
     "name": "stdout",
     "output_type": "stream",
     "text": [
      "Hello world\n"
     ]
    }
   ],
   "source": [
    "if 1<2:\n",
    "    print(\"Hello world\")"
   ]
  },
  {
   "cell_type": "code",
   "execution_count": 29,
   "id": "382e1277",
   "metadata": {},
   "outputs": [
    {
     "name": "stdout",
     "output_type": "stream",
     "text": [
      "Bye\n"
     ]
    }
   ],
   "source": [
    "if 1>2:\n",
    "    print(\"Hello\")\n",
    "else:\n",
    "    print(\"Bye\")"
   ]
  },
  {
   "cell_type": "code",
   "execution_count": 30,
   "id": "15d71296",
   "metadata": {},
   "outputs": [
    {
     "name": "stdout",
     "output_type": "stream",
     "text": [
      "Hello\n"
     ]
    }
   ],
   "source": [
    "if 1<2:\n",
    "    print(\"Hello\")\n",
    "else:\n",
    "    print(\"Bye\")"
   ]
  },
  {
   "cell_type": "code",
   "execution_count": 31,
   "id": "e59bc3f5",
   "metadata": {},
   "outputs": [],
   "source": [
    "# Bold Green = Keywords\n",
    "# Operators\n",
    "# Black color = Output, Special Symbol\n",
    "# Variables"
   ]
  },
  {
   "cell_type": "code",
   "execution_count": 32,
   "id": "1ae18e16",
   "metadata": {},
   "outputs": [],
   "source": [
    "# WAPP \n",
    "# age>18 = You can give the vote\n",
    "# age<18 = You cannot give the vote\n",
    "\n",
    "#20P"
   ]
  },
  {
   "attachments": {
    "image.png": {
     "image/png": "[encoded data removed]"
    }
   },
   "cell_type": "markdown",
   "id": "52997094",
   "metadata": {},
   "source": [
    "![image.png](attachment:image.png)"
   ]
  },
  {
   "cell_type": "code",
   "execution_count": 33,
   "id": "579d953f",
   "metadata": {},
   "outputs": [
    {
     "name": "stdout",
     "output_type": "stream",
     "text": [
      "You can give the vote. \n"
     ]
    }
   ],
   "source": [
    "age = 20\n",
    "\n",
    "if age>18:\n",
    "    print(\"You can give the vote. \")\n",
    "else:\n",
    "    print(\"You cannot give the vote.\")"
   ]
  },
  {
   "cell_type": "code",
   "execution_count": 36,
   "id": "8522759b",
   "metadata": {},
   "outputs": [
    {
     "ename": "SyntaxError",
     "evalue": "invalid syntax (1427977910.py, line 2)",
     "output_type": "error",
     "traceback": [
      "\u001b[1;36m  Cell \u001b[1;32mIn[36], line 2\u001b[1;36m\u001b[0m\n\u001b[1;33m    a++\u001b[0m\n\u001b[1;37m       ^\u001b[0m\n\u001b[1;31mSyntaxError\u001b[0m\u001b[1;31m:\u001b[0m invalid syntax\n"
     ]
    }
   ],
   "source": [
    "a = 10\n",
    "a++\n",
    "print(a)"
   ]
  },
  {
   "cell_type": "code",
   "execution_count": null,
   "id": "09d1b089",
   "metadata": {},
   "outputs": [],
   "source": [
    "# Post-increment is not there in python"
   ]
  },
  {
   "cell_type": "code",
   "execution_count": 37,
   "id": "ad6d567e",
   "metadata": {},
   "outputs": [],
   "source": [
    "# Switch Case - It is also removed from python\n",
    "# Do-While - They have removed this too\n",
    "# int,float,double,long etc - it is also removed\n",
    "# pointers - it is also removed\n",
    "# malloc,calloc "
   ]
  },
  {
   "cell_type": "code",
   "execution_count": 38,
   "id": "2cd9d931",
   "metadata": {},
   "outputs": [
    {
     "name": "stdout",
     "output_type": "stream",
     "text": [
      "100000000000000000000000000000000000000000000000000000000\n"
     ]
    }
   ],
   "source": [
    "a = 100000000000000000000000000000000000000000000000000000000\n",
    "print(a)"
   ]
  },
  {
   "cell_type": "code",
   "execution_count": 39,
   "id": "9e528f84",
   "metadata": {},
   "outputs": [],
   "source": [
    "# Modulus operator"
   ]
  },
  {
   "cell_type": "code",
   "execution_count": null,
   "id": "d8d4217a",
   "metadata": {},
   "outputs": [],
   "source": [
    "5/2 = 2 \n",
    "quotient = 2\n",
    "remainder = 1\n",
    "\n",
    "# 30P\n",
    "# WAPP to find quotient and remainder of two number"
   ]
  },
  {
   "cell_type": "code",
   "execution_count": 40,
   "id": "71e840ed",
   "metadata": {},
   "outputs": [],
   "source": [
    "# Prany = 20P"
   ]
  },
  {
   "cell_type": "code",
   "execution_count": 43,
   "id": "de211764",
   "metadata": {},
   "outputs": [
    {
     "name": "stdout",
     "output_type": "stream",
     "text": [
      "quotient =  2.5\n",
      "remainder =  2\n"
     ]
    }
   ],
   "source": [
    "a = 10\n",
    "b = 4\n",
    "print(\"quotient = \", a/b)\n",
    "print(\"remainder = \", a%b)"
   ]
  },
  {
   "cell_type": "code",
   "execution_count": 44,
   "id": "f062229d",
   "metadata": {},
   "outputs": [
    {
     "name": "stdout",
     "output_type": "stream",
     "text": [
      "quotient =  2\n",
      "remainder =  2\n"
     ]
    }
   ],
   "source": [
    "a = 10\n",
    "b = 4\n",
    "print(\"quotient = \", int(a/b))\n",
    "print(\"remainder = \", a%b)"
   ]
  },
  {
   "cell_type": "code",
   "execution_count": 45,
   "id": "352e7cdf",
   "metadata": {},
   "outputs": [
    {
     "name": "stdout",
     "output_type": "stream",
     "text": [
      "quotient =  2\n",
      "remainder =  2\n"
     ]
    }
   ],
   "source": [
    "a = 10\n",
    "b = 4\n",
    "print(\"quotient = \", a//b)\n",
    "print(\"remainder = \", a%b)"
   ]
  },
  {
   "cell_type": "code",
   "execution_count": 46,
   "id": "cc28dcb2",
   "metadata": {},
   "outputs": [
    {
     "data": {
      "text/plain": [
       "1"
      ]
     },
     "execution_count": 46,
     "metadata": {},
     "output_type": "execute_result"
    }
   ],
   "source": [
    "5 % 2"
   ]
  },
  {
   "cell_type": "code",
   "execution_count": 47,
   "id": "5f2d3887",
   "metadata": {},
   "outputs": [
    {
     "data": {
      "text/plain": [
       "0"
      ]
     },
     "execution_count": 47,
     "metadata": {},
     "output_type": "execute_result"
    }
   ],
   "source": [
    "4 % 2"
   ]
  },
  {
   "cell_type": "code",
   "execution_count": 48,
   "id": "91c59b45",
   "metadata": {},
   "outputs": [
    {
     "data": {
      "text/plain": [
       "0"
      ]
     },
     "execution_count": 48,
     "metadata": {},
     "output_type": "execute_result"
    }
   ],
   "source": [
    "2 % 2"
   ]
  },
  {
   "cell_type": "code",
   "execution_count": 49,
   "id": "aee79bf6",
   "metadata": {},
   "outputs": [
    {
     "data": {
      "text/plain": [
       "1"
      ]
     },
     "execution_count": 49,
     "metadata": {},
     "output_type": "execute_result"
    }
   ],
   "source": [
    "1 % 5"
   ]
  },
  {
   "cell_type": "code",
   "execution_count": 50,
   "id": "53afd9ed",
   "metadata": {},
   "outputs": [
    {
     "data": {
      "text/plain": [
       "2"
      ]
     },
     "execution_count": 50,
     "metadata": {},
     "output_type": "execute_result"
    }
   ],
   "source": [
    "2 % 5"
   ]
  },
  {
   "cell_type": "code",
   "execution_count": 51,
   "id": "21493c9c",
   "metadata": {},
   "outputs": [
    {
     "data": {
      "text/plain": [
       "3"
      ]
     },
     "execution_count": 51,
     "metadata": {},
     "output_type": "execute_result"
    }
   ],
   "source": [
    "3 % 5"
   ]
  },
  {
   "cell_type": "code",
   "execution_count": 52,
   "id": "7c1a56ec",
   "metadata": {},
   "outputs": [
    {
     "data": {
      "text/plain": [
       "4"
      ]
     },
     "execution_count": 52,
     "metadata": {},
     "output_type": "execute_result"
    }
   ],
   "source": [
    "4 % 5"
   ]
  },
  {
   "cell_type": "code",
   "execution_count": 53,
   "id": "c06b6009",
   "metadata": {},
   "outputs": [
    {
     "data": {
      "text/plain": [
       "0"
      ]
     },
     "execution_count": 53,
     "metadata": {},
     "output_type": "execute_result"
    }
   ],
   "source": [
    "5 % 5"
   ]
  },
  {
   "cell_type": "code",
   "execution_count": null,
   "id": "2af1814c",
   "metadata": {},
   "outputs": [],
   "source": [
    "a = 4\n",
    "b = 5\n",
    "\n",
    "a<b = a\n",
    "a>b = remainder"
   ]
  },
  {
   "cell_type": "code",
   "execution_count": null,
   "id": "f5ae2453",
   "metadata": {},
   "outputs": [],
   "source": [
    "# WAPP\n",
    "# Input : 2\n",
    "# Output : Even\n",
    "\n",
    "# Input : 3\n",
    "# Output : Odd"
   ]
  },
  {
   "attachments": {
    "image.png": {
     "image/png": "[encoded data removed]"
    }
   },
   "cell_type": "markdown",
   "id": "59c4f8f9",
   "metadata": {},
   "source": [
    "![image.png](attachment:image.png)"
   ]
  },
  {
   "cell_type": "code",
   "execution_count": 54,
   "id": "efc08983",
   "metadata": {},
   "outputs": [],
   "source": [
    "# for loop"
   ]
  },
  {
   "cell_type": "code",
   "execution_count": 55,
   "id": "4ceed552",
   "metadata": {},
   "outputs": [],
   "source": [
    "# i want to print hello world 1 time"
   ]
  },
  {
   "cell_type": "code",
   "execution_count": 57,
   "id": "a0597ffb",
   "metadata": {},
   "outputs": [
    {
     "name": "stdout",
     "output_type": "stream",
     "text": [
      "Hello World\n",
      "Hello World\n",
      "Hello World\n",
      "Hello World\n",
      "Hello World\n",
      "Hello World\n"
     ]
    }
   ],
   "source": [
    "print(\"Hello World\")\n",
    "print(\"Hello World\")\n",
    "print(\"Hello World\")\n",
    "print(\"Hello World\")\n",
    "print(\"Hello World\")\n",
    "print(\"Hello World\")"
   ]
  },
  {
   "cell_type": "code",
   "execution_count": 58,
   "id": "91e559e3",
   "metadata": {},
   "outputs": [],
   "source": [
    "# Print hello world 5 times with the help of for loop"
   ]
  },
  {
   "cell_type": "code",
   "execution_count": 62,
   "id": "8546b69b",
   "metadata": {},
   "outputs": [
    {
     "name": "stdout",
     "output_type": "stream",
     "text": [
      "Hello World\n",
      "Hello World\n",
      "Hello World\n",
      "Hello World\n"
     ]
    }
   ],
   "source": [
    "for i in range(1,5):\n",
    "    print(\"Hello World\")"
   ]
  },
  {
   "cell_type": "code",
   "execution_count": 64,
   "id": "d1e54c0a",
   "metadata": {},
   "outputs": [
    {
     "name": "stdout",
     "output_type": "stream",
     "text": [
      "1\n",
      "2\n",
      "3\n",
      "4\n"
     ]
    }
   ],
   "source": [
    "for i in range(1,5):\n",
    "    print(i)"
   ]
  },
  {
   "cell_type": "code",
   "execution_count": 65,
   "id": "0febf234",
   "metadata": {},
   "outputs": [
    {
     "name": "stdout",
     "output_type": "stream",
     "text": [
      "Hello World 1\n",
      "Hello World 2\n",
      "Hello World 3\n",
      "Hello World 4\n"
     ]
    }
   ],
   "source": [
    "for i in range(1,5):\n",
    "    print(\"Hello World\",i)"
   ]
  },
  {
   "cell_type": "code",
   "execution_count": 66,
   "id": "22340b96",
   "metadata": {},
   "outputs": [
    {
     "name": "stdout",
     "output_type": "stream",
     "text": [
      "3\n",
      "4\n",
      "5\n",
      "6\n"
     ]
    }
   ],
   "source": [
    "for i in range(1,5):\n",
    "    print(i+2)"
   ]
  },
  {
   "cell_type": "code",
   "execution_count": 67,
   "id": "8e741202",
   "metadata": {},
   "outputs": [],
   "source": [
    "# WAPP"
   ]
  },
  {
   "cell_type": "code",
   "execution_count": null,
   "id": "700f1488",
   "metadata": {},
   "outputs": [],
   "source": [
    "2 x 1 = 2\n",
    "2 x 2 = 4\n",
    "2 x 3 = 6\n",
    ".\n",
    ".\n",
    ".\n",
    "2 x 10 = 20\n",
    "\n",
    "#100P = Navya"
   ]
  },
  {
   "attachments": {
    "image.png": {
     "image/png": "[encoded data removed]"
    }
   },
   "cell_type": "markdown",
   "id": "61a24d99",
   "metadata": {},
   "source": [
    "![image.png](attachment:image.png)"
   ]
  },
  {
   "cell_type": "code",
   "execution_count": 68,
   "id": "989ec772",
   "metadata": {},
   "outputs": [
    {
     "name": "stdout",
     "output_type": "stream",
     "text": [
      "1\n",
      "2\n",
      "3\n",
      "4\n",
      "5\n",
      "6\n",
      "7\n",
      "8\n",
      "9\n",
      "10\n"
     ]
    }
   ],
   "source": [
    "for i in range(1,11):\n",
    "    print(i)"
   ]
  },
  {
   "cell_type": "code",
   "execution_count": 69,
   "id": "dbb330a5",
   "metadata": {},
   "outputs": [
    {
     "name": "stdout",
     "output_type": "stream",
     "text": [
      "2 1\n",
      "2 2\n",
      "2 3\n",
      "2 4\n",
      "2 5\n",
      "2 6\n",
      "2 7\n",
      "2 8\n",
      "2 9\n",
      "2 10\n"
     ]
    }
   ],
   "source": [
    "for i in range(1,11):\n",
    "    print(\"2\",i)"
   ]
  },
  {
   "cell_type": "code",
   "execution_count": 70,
   "id": "78566196",
   "metadata": {},
   "outputs": [
    {
     "name": "stdout",
     "output_type": "stream",
     "text": [
      "2 x 1\n",
      "2 x 2\n",
      "2 x 3\n",
      "2 x 4\n",
      "2 x 5\n",
      "2 x 6\n",
      "2 x 7\n",
      "2 x 8\n",
      "2 x 9\n",
      "2 x 10\n"
     ]
    }
   ],
   "source": [
    "for i in range(1,11):\n",
    "    print(\"2\",\"x\",i)"
   ]
  },
  {
   "cell_type": "code",
   "execution_count": 71,
   "id": "c5481d55",
   "metadata": {},
   "outputs": [
    {
     "name": "stdout",
     "output_type": "stream",
     "text": [
      "2 x 1 =\n",
      "2 x 2 =\n",
      "2 x 3 =\n",
      "2 x 4 =\n",
      "2 x 5 =\n",
      "2 x 6 =\n",
      "2 x 7 =\n",
      "2 x 8 =\n",
      "2 x 9 =\n",
      "2 x 10 =\n"
     ]
    }
   ],
   "source": [
    "for i in range(1,11):\n",
    "    print(\"2\",\"x\",i,\"=\")"
   ]
  },
  {
   "cell_type": "code",
   "execution_count": 72,
   "id": "59654332",
   "metadata": {},
   "outputs": [
    {
     "name": "stdout",
     "output_type": "stream",
     "text": [
      "2 x 1 = 2\n",
      "2 x 2 = 4\n",
      "2 x 3 = 6\n",
      "2 x 4 = 8\n",
      "2 x 5 = 10\n",
      "2 x 6 = 12\n",
      "2 x 7 = 14\n",
      "2 x 8 = 16\n",
      "2 x 9 = 18\n",
      "2 x 10 = 20\n"
     ]
    }
   ],
   "source": [
    "for i in range(1,11):\n",
    "    print(\"2\",\"x\",i,\"=\",i*2)"
   ]
  },
  {
   "cell_type": "code",
   "execution_count": 74,
   "id": "2a4f2fa4",
   "metadata": {},
   "outputs": [
    {
     "name": "stdout",
     "output_type": "stream",
     "text": [
      "Enter the number: 25\n",
      "25 x 1 = 25\n",
      "25 x 2 = 50\n",
      "25 x 3 = 75\n",
      "25 x 4 = 100\n",
      "25 x 5 = 125\n",
      "25 x 6 = 150\n",
      "25 x 7 = 175\n",
      "25 x 8 = 200\n",
      "25 x 9 = 225\n",
      "25 x 10 = 250\n"
     ]
    }
   ],
   "source": [
    "num = int(input(\"Enter the number: \"))\n",
    "for i in range(1,11):\n",
    "    print(num,\"x\",i,\"=\",i*num)"
   ]
  },
  {
   "cell_type": "code",
   "execution_count": 75,
   "id": "0b27cdee",
   "metadata": {},
   "outputs": [
    {
     "name": "stdout",
     "output_type": "stream",
     "text": [
      "Enter the number: 175\n",
      "175 x 1 = 175\n",
      "175 x 2 = 350\n",
      "175 x 3 = 525\n",
      "175 x 4 = 700\n",
      "175 x 5 = 875\n",
      "175 x 6 = 1050\n",
      "175 x 7 = 1225\n",
      "175 x 8 = 1400\n",
      "175 x 9 = 1575\n",
      "175 x 10 = 1750\n"
     ]
    }
   ],
   "source": [
    "num = int(input(\"Enter the number: \"))\n",
    "for i in range(1,11):\n",
    "    print(num,\"x\",i,\"=\",i*num)"
   ]
  },
  {
   "cell_type": "code",
   "execution_count": 76,
   "id": "00ada833",
   "metadata": {},
   "outputs": [],
   "source": [
    "# WAPP "
   ]
  },
  {
   "cell_type": "code",
   "execution_count": null,
   "id": "68e24c52",
   "metadata": {},
   "outputs": [],
   "source": [
    "2 = Even\n",
    "3 = Odd\n",
    "4 = Even\n",
    "5 = Odd\n",
    ".\n",
    ".\n",
    "10 = Even\n",
    "\n",
    "# 100P"
   ]
  },
  {
   "attachments": {
    "image.png": {
     "image/png": "[encoded data removed]"
    }
   },
   "cell_type": "markdown",
   "id": "efd2636a",
   "metadata": {},
   "source": [
    "![image.png](attachment:image.png)"
   ]
  },
  {
   "cell_type": "code",
   "execution_count": 78,
   "id": "fec17cf9",
   "metadata": {},
   "outputs": [
    {
     "name": "stdout",
     "output_type": "stream",
     "text": [
      "2 =Even\n",
      "3 =Odd\n",
      "4 =Even\n",
      "5 =Odd\n",
      "6 =Even\n",
      "7 =Odd\n",
      "8 =Even\n",
      "9 =Odd\n",
      "10 =Even\n"
     ]
    }
   ],
   "source": [
    "for i in range(2,11):\n",
    "    if i%2==0:\n",
    "        print(i ,\"=Even\")\n",
    "    else:\n",
    "        print(i ,\"=Odd\")"
   ]
  },
  {
   "cell_type": "code",
   "execution_count": 79,
   "id": "d79cabf3",
   "metadata": {},
   "outputs": [],
   "source": [
    "# Step value"
   ]
  },
  {
   "cell_type": "code",
   "execution_count": 80,
   "id": "0526f9dc",
   "metadata": {},
   "outputs": [
    {
     "name": "stdout",
     "output_type": "stream",
     "text": [
      "1\n",
      "3\n",
      "5\n",
      "7\n",
      "9\n"
     ]
    }
   ],
   "source": [
    "for i in range(1,11,2):\n",
    "    print(i)"
   ]
  },
  {
   "cell_type": "code",
   "execution_count": 81,
   "id": "ca4745d0",
   "metadata": {},
   "outputs": [
    {
     "name": "stdout",
     "output_type": "stream",
     "text": [
      "1\n",
      "4\n",
      "7\n",
      "10\n"
     ]
    }
   ],
   "source": [
    "for i in range(1,11,3):\n",
    "    print(i)"
   ]
  },
  {
   "cell_type": "code",
   "execution_count": 82,
   "id": "ccbf45de",
   "metadata": {},
   "outputs": [
    {
     "name": "stdout",
     "output_type": "stream",
     "text": [
      "1\n",
      "5\n",
      "9\n"
     ]
    }
   ],
   "source": [
    "for i in range(1,11,4):\n",
    "    print(i)"
   ]
  },
  {
   "cell_type": "code",
   "execution_count": 83,
   "id": "7c7eb2ac",
   "metadata": {},
   "outputs": [],
   "source": [
    "# How many keywords is used here?"
   ]
  },
  {
   "cell_type": "code",
   "execution_count": 84,
   "id": "4153e780",
   "metadata": {},
   "outputs": [],
   "source": [
    "# for,in"
   ]
  },
  {
   "cell_type": "code",
   "execution_count": 85,
   "id": "ec72c2e9",
   "metadata": {},
   "outputs": [],
   "source": [
    "# range is function"
   ]
  },
  {
   "cell_type": "code",
   "execution_count": 86,
   "id": "3d08b62c",
   "metadata": {},
   "outputs": [],
   "source": [
    "# Function"
   ]
  },
  {
   "cell_type": "code",
   "execution_count": 87,
   "id": "c6b57a27",
   "metadata": {},
   "outputs": [],
   "source": [
    "# C = Functional Programming"
   ]
  },
  {
   "cell_type": "code",
   "execution_count": 88,
   "id": "fcd7bc7c",
   "metadata": {},
   "outputs": [],
   "source": [
    "# Java = OOPS"
   ]
  },
  {
   "cell_type": "code",
   "execution_count": 89,
   "id": "3b7ccc60",
   "metadata": {},
   "outputs": [],
   "source": [
    "# Python = functional + OOPS"
   ]
  },
  {
   "cell_type": "code",
   "execution_count": 90,
   "id": "48b00901",
   "metadata": {},
   "outputs": [
    {
     "name": "stdout",
     "output_type": "stream",
     "text": [
      "Hello World\n"
     ]
    }
   ],
   "source": [
    "print(\"Hello World\")"
   ]
  },
  {
   "cell_type": "code",
   "execution_count": 91,
   "id": "e83a3605",
   "metadata": {},
   "outputs": [
    {
     "name": "stdout",
     "output_type": "stream",
     "text": [
      "10\n"
     ]
    }
   ],
   "source": [
    "A = 10\n",
    "a = 20\n",
    "print(A)"
   ]
  },
  {
   "cell_type": "code",
   "execution_count": 92,
   "id": "dd5d810c",
   "metadata": {},
   "outputs": [],
   "source": [
    "# How to start with function"
   ]
  },
  {
   "cell_type": "code",
   "execution_count": null,
   "id": "b2822d10",
   "metadata": {},
   "outputs": [],
   "source": [
    "def addition(): # Function header\n",
    "# Function headers = keywords,function name (), color"
   ]
  },
  {
   "cell_type": "code",
   "execution_count": 97,
   "id": "c7d5ac88",
   "metadata": {},
   "outputs": [],
   "source": [
    "def addition1():\n",
    "    print(1+2)"
   ]
  },
  {
   "cell_type": "code",
   "execution_count": 98,
   "id": "da501489",
   "metadata": {},
   "outputs": [
    {
     "data": {
      "text/plain": [
       "<function __main__.addition1()>"
      ]
     },
     "execution_count": 98,
     "metadata": {},
     "output_type": "execute_result"
    }
   ],
   "source": [
    "addition1"
   ]
  },
  {
   "cell_type": "code",
   "execution_count": 99,
   "id": "45d11a3b",
   "metadata": {},
   "outputs": [
    {
     "name": "stdout",
     "output_type": "stream",
     "text": [
      "3\n"
     ]
    }
   ],
   "source": [
    "addition1()"
   ]
  },
  {
   "cell_type": "code",
   "execution_count": 100,
   "id": "83828c56",
   "metadata": {},
   "outputs": [],
   "source": [
    "def addition1():\n",
    "    print(\"Hello World\")"
   ]
  },
  {
   "cell_type": "code",
   "execution_count": 101,
   "id": "f3656808",
   "metadata": {},
   "outputs": [
    {
     "name": "stdout",
     "output_type": "stream",
     "text": [
      "Hello World\n"
     ]
    }
   ],
   "source": [
    "addition1()"
   ]
  },
  {
   "cell_type": "code",
   "execution_count": 102,
   "id": "2fae4d86",
   "metadata": {},
   "outputs": [
    {
     "name": "stdout",
     "output_type": "stream",
     "text": [
      "3\n"
     ]
    }
   ],
   "source": [
    "def addition1():\n",
    "    a=1\n",
    "    b=2\n",
    "    print(a+b)\n",
    "addition1()"
   ]
  },
  {
   "cell_type": "code",
   "execution_count": 103,
   "id": "7181a2bc",
   "metadata": {},
   "outputs": [
    {
     "ename": "SyntaxError",
     "evalue": "invalid syntax (698924912.py, line 1)",
     "output_type": "error",
     "traceback": [
      "\u001b[1;36m  Cell \u001b[1;32mIn[103], line 1\u001b[1;36m\u001b[0m\n\u001b[1;33m    def addition1(1,2):\u001b[0m\n\u001b[1;37m                  ^\u001b[0m\n\u001b[1;31mSyntaxError\u001b[0m\u001b[1;31m:\u001b[0m invalid syntax\n"
     ]
    }
   ],
   "source": [
    "def addition1(1,2):\n",
    "    print(a+b)\n",
    "addition1()"
   ]
  },
  {
   "cell_type": "code",
   "execution_count": 104,
   "id": "7b8184e5",
   "metadata": {},
   "outputs": [
    {
     "name": "stdout",
     "output_type": "stream",
     "text": [
      "3\n"
     ]
    }
   ],
   "source": [
    "def addition1(a,b):\n",
    "    print(a+b)\n",
    "addition1(1,2)"
   ]
  },
  {
   "cell_type": "code",
   "execution_count": 105,
   "id": "83a860f1",
   "metadata": {},
   "outputs": [
    {
     "name": "stdout",
     "output_type": "stream",
     "text": [
      "3\n"
     ]
    }
   ],
   "source": [
    "def addition1(a,b):\n",
    "    print(a+b)\n",
    "a=1\n",
    "b=2\n",
    "addition1(a,b)"
   ]
  },
  {
   "cell_type": "code",
   "execution_count": 107,
   "id": "b1950ff2",
   "metadata": {},
   "outputs": [
    {
     "name": "stdout",
     "output_type": "stream",
     "text": [
      "30\n"
     ]
    }
   ],
   "source": [
    "def addition1(a,b):\n",
    "    print(a+b)\n",
    "x=10\n",
    "y=20\n",
    "addition1(x,y)"
   ]
  },
  {
   "cell_type": "code",
   "execution_count": null,
   "id": "3cc71aa0",
   "metadata": {},
   "outputs": [],
   "source": [
    "a,b= parameter\n",
    "x,y= arguments"
   ]
  },
  {
   "cell_type": "code",
   "execution_count": 109,
   "id": "50bb4f47",
   "metadata": {},
   "outputs": [],
   "source": [
    "# Function type based on arguments"
   ]
  },
  {
   "cell_type": "code",
   "execution_count": 110,
   "id": "80cbef26",
   "metadata": {},
   "outputs": [
    {
     "name": "stdout",
     "output_type": "stream",
     "text": [
      "New Delhi\n"
     ]
    }
   ],
   "source": [
    "def country(a,b):\n",
    "    print(a,b)\n",
    "    \n",
    "country(\"New\",\"Delhi\")"
   ]
  },
  {
   "cell_type": "code",
   "execution_count": 112,
   "id": "a5b90507",
   "metadata": {},
   "outputs": [
    {
     "ename": "TypeError",
     "evalue": "country() takes 2 positional arguments but 3 were given",
     "output_type": "error",
     "traceback": [
      "\u001b[1;31m---------------------------------------------------------------------------\u001b[0m",
      "\u001b[1;31mTypeError\u001b[0m                                 Traceback (most recent call last)",
      "Cell \u001b[1;32mIn[112], line 4\u001b[0m\n\u001b[0;32m      1\u001b[0m \u001b[38;5;28;01mdef\u001b[39;00m \u001b[38;5;21mcountry\u001b[39m(a,b):\n\u001b[0;32m      2\u001b[0m     \u001b[38;5;28mprint\u001b[39m(a,b)\n\u001b[1;32m----> 4\u001b[0m country(\u001b[38;5;124m\"\u001b[39m\u001b[38;5;124mDelhi\u001b[39m\u001b[38;5;124m\"\u001b[39m,\u001b[38;5;124m\"\u001b[39m\u001b[38;5;124mNew\u001b[39m\u001b[38;5;124m\"\u001b[39m,\u001b[38;5;124m\"\u001b[39m\u001b[38;5;124mIndia\u001b[39m\u001b[38;5;124m\"\u001b[39m)\n",
      "\u001b[1;31mTypeError\u001b[0m: country() takes 2 positional arguments but 3 were given"
     ]
    }
   ],
   "source": [
    "def country(a,b):\n",
    "    print(a,b)\n",
    "    \n",
    "country(\"Delhi\",\"New\")"
   ]
  },
  {
   "cell_type": "code",
   "execution_count": 113,
   "id": "61bf3f7e",
   "metadata": {},
   "outputs": [],
   "source": [
    "# Positional arguments\n",
    "# Number of paramter and Number of Arguments = Same\n",
    "# Arguments should be passed in same order to Parameter "
   ]
  },
  {
   "cell_type": "code",
   "execution_count": 114,
   "id": "47aca0d2",
   "metadata": {},
   "outputs": [
    {
     "name": "stdout",
     "output_type": "stream",
     "text": [
      "Delhi New\n"
     ]
    }
   ],
   "source": [
    "def country(a,b):\n",
    "    print(a,b)\n",
    "    \n",
    "country(a=\"Delhi\",b=\"New\")"
   ]
  },
  {
   "cell_type": "code",
   "execution_count": 117,
   "id": "83df839a",
   "metadata": {},
   "outputs": [
    {
     "ename": "TypeError",
     "evalue": "country() got an unexpected keyword argument 'c'",
     "output_type": "error",
     "traceback": [
      "\u001b[1;31m---------------------------------------------------------------------------\u001b[0m",
      "\u001b[1;31mTypeError\u001b[0m                                 Traceback (most recent call last)",
      "Cell \u001b[1;32mIn[117], line 4\u001b[0m\n\u001b[0;32m      1\u001b[0m \u001b[38;5;28;01mdef\u001b[39;00m \u001b[38;5;21mcountry\u001b[39m(a,b):\n\u001b[0;32m      2\u001b[0m     \u001b[38;5;28mprint\u001b[39m(a,b)\n\u001b[1;32m----> 4\u001b[0m country(a\u001b[38;5;241m=\u001b[39m\u001b[38;5;124m\"\u001b[39m\u001b[38;5;124mNew\u001b[39m\u001b[38;5;124m\"\u001b[39m,b\u001b[38;5;241m=\u001b[39m\u001b[38;5;124m\"\u001b[39m\u001b[38;5;124mDelhi\u001b[39m\u001b[38;5;124m\"\u001b[39m,c\u001b[38;5;241m=\u001b[39m\u001b[38;5;124m\"\u001b[39m\u001b[38;5;124mIndia\u001b[39m\u001b[38;5;124m\"\u001b[39m)\n",
      "\u001b[1;31mTypeError\u001b[0m: country() got an unexpected keyword argument 'c'"
     ]
    }
   ],
   "source": [
    "def country(a,b):\n",
    "    print(a,b)\n",
    "    \n",
    "country(a=\"New\",b=\"Delhi\",c=\"India\")"
   ]
  },
  {
   "cell_type": "code",
   "execution_count": 118,
   "id": "9e4af390",
   "metadata": {},
   "outputs": [],
   "source": [
    "# keyword argument"
   ]
  },
  {
   "cell_type": "code",
   "execution_count": 121,
   "id": "eb1202d0",
   "metadata": {},
   "outputs": [
    {
     "name": "stdout",
     "output_type": "stream",
     "text": [
      "New Delhi\n"
     ]
    }
   ],
   "source": [
    "def country(a,b,c):\n",
    "    print(a,b)\n",
    "    \n",
    "country(a=\"New\",b=\"Delhi\",c=\"India\")"
   ]
  },
  {
   "cell_type": "code",
   "execution_count": 122,
   "id": "a2445f16",
   "metadata": {},
   "outputs": [
    {
     "name": "stdout",
     "output_type": "stream",
     "text": [
      "New Delhi India\n"
     ]
    }
   ],
   "source": [
    "def country(a,b,c):\n",
    "    print(a,b,c)\n",
    "    \n",
    "country(a=\"New\",b=\"Delhi\",c=\"India\")"
   ]
  },
  {
   "cell_type": "code",
   "execution_count": 123,
   "id": "9ddedfe0",
   "metadata": {},
   "outputs": [],
   "source": [
    "# Default argument"
   ]
  },
  {
   "cell_type": "code",
   "execution_count": 126,
   "id": "1e5410b0",
   "metadata": {},
   "outputs": [
    {
     "name": "stdout",
     "output_type": "stream",
     "text": [
      "Alex India\n"
     ]
    }
   ],
   "source": [
    "def flipkart(name,country=\"India\"):\n",
    "    print(name,country)\n",
    "\n",
    "flipkart(\"Alex\")"
   ]
  },
  {
   "cell_type": "code",
   "execution_count": 129,
   "id": "74222b2e",
   "metadata": {},
   "outputs": [
    {
     "name": "stdout",
     "output_type": "stream",
     "text": [
      "Krish is from Nepal\n"
     ]
    }
   ],
   "source": [
    "def flipkart(name,country=\"India\"):\n",
    "    print(name,\"is from\",country)\n",
    "\n",
    "flipkart(\"Krish\",country=\"Nepal\")"
   ]
  },
  {
   "cell_type": "code",
   "execution_count": 130,
   "id": "3c181214",
   "metadata": {},
   "outputs": [
    {
     "name": "stdout",
     "output_type": "stream",
     "text": [
      "Krish is from India\n"
     ]
    }
   ],
   "source": [
    "def flipkart(name,country=\"India\"):\n",
    "    print(name,\"is from\",country)\n",
    "\n",
    "flipkart(\"Krish\")"
   ]
  },
  {
   "cell_type": "code",
   "execution_count": 131,
   "id": "be5313af",
   "metadata": {},
   "outputs": [
    {
     "name": "stdout",
     "output_type": "stream",
     "text": [
      "20\n"
     ]
    }
   ],
   "source": [
    "a = 10\n",
    "a = 20\n",
    "print(a)"
   ]
  },
  {
   "cell_type": "code",
   "execution_count": 132,
   "id": "29667c11",
   "metadata": {},
   "outputs": [
    {
     "name": "stdout",
     "output_type": "stream",
     "text": [
      "Name:  Alex\n",
      "Age:  29\n",
      "Country:  India\n"
     ]
    }
   ],
   "source": [
    "def profile(name,age,country):\n",
    "    print(\"Name: \",name)\n",
    "    print(\"Age: \",age)\n",
    "    print(\"Country: \",country)\n",
    "\n",
    "profile(\"Alex\",29,\"India\")"
   ]
  },
  {
   "cell_type": "code",
   "execution_count": 133,
   "id": "b7661ced",
   "metadata": {},
   "outputs": [],
   "source": [
    "# Variable length arguments"
   ]
  },
  {
   "cell_type": "code",
   "execution_count": 134,
   "id": "fce65821",
   "metadata": {},
   "outputs": [],
   "source": [
    "# WAPP to find the maximum of the two number using function\n",
    "# Parameter"
   ]
  },
  {
   "cell_type": "code",
   "execution_count": 135,
   "id": "447c7ef2",
   "metadata": {},
   "outputs": [],
   "source": [
    "# 50P = Mushkan"
   ]
  },
  {
   "attachments": {
    "image.png": {
     "image/png": "[encoded data removed]"
    }
   },
   "cell_type": "markdown",
   "id": "cb4d6f17",
   "metadata": {},
   "source": [
    "![image.png](attachment:image.png)"
   ]
  },
  {
   "cell_type": "code",
   "execution_count": 137,
   "id": "d082ca86",
   "metadata": {},
   "outputs": [
    {
     "name": "stdout",
     "output_type": "stream",
     "text": [
      "Maximum: 5\n"
     ]
    }
   ],
   "source": [
    "def maxi(a,b):\n",
    "    if a>b:\n",
    "        print(\"Maximum:\",a)\n",
    "    else:\n",
    "        print(\"Maximum:\",b)\n",
    "    \n",
    "maxi(5,3)"
   ]
  },
  {
   "cell_type": "code",
   "execution_count": 1,
   "id": "8061b758",
   "metadata": {},
   "outputs": [],
   "source": [
    "# Class and Objects"
   ]
  },
  {
   "cell_type": "code",
   "execution_count": 6,
   "id": "c9739d7b",
   "metadata": {},
   "outputs": [
    {
     "name": "stdout",
     "output_type": "stream",
     "text": [
      "10\n"
     ]
    }
   ],
   "source": [
    "class Emp:\n",
    "    a = 10\n",
    "print(Emp.a)"
   ]
  },
  {
   "cell_type": "code",
   "execution_count": 9,
   "id": "53377416",
   "metadata": {},
   "outputs": [
    {
     "name": "stdout",
     "output_type": "stream",
     "text": [
      "10\n",
      "20\n"
     ]
    }
   ],
   "source": [
    "class Emp:\n",
    "    a = 10\n",
    "    b = 20\n",
    "print(Emp.a)\n",
    "print(Emp.b)"
   ]
  },
  {
   "cell_type": "code",
   "execution_count": 10,
   "id": "85d97789",
   "metadata": {},
   "outputs": [
    {
     "name": "stdout",
     "output_type": "stream",
     "text": [
      "10\n"
     ]
    }
   ],
   "source": [
    "class Emp:\n",
    "    a = 10\n",
    "\n",
    "obj1 = Emp()\n",
    "print(obj1.a)"
   ]
  },
  {
   "cell_type": "code",
   "execution_count": 11,
   "id": "fbc2469e",
   "metadata": {},
   "outputs": [
    {
     "name": "stdout",
     "output_type": "stream",
     "text": [
      "10\n",
      "20\n"
     ]
    }
   ],
   "source": [
    "class Emp:\n",
    "    a = 10\n",
    "    b = 20 \n",
    "    \n",
    "obj1 = Emp()\n",
    "print(obj1.a)\n",
    "print(obj1.b)"
   ]
  },
  {
   "cell_type": "code",
   "execution_count": 12,
   "id": "938d7f51",
   "metadata": {},
   "outputs": [
    {
     "name": "stdout",
     "output_type": "stream",
     "text": [
      "10\n",
      "20\n"
     ]
    }
   ],
   "source": [
    "class Emp:\n",
    "    a = 10\n",
    "    b = 20 \n",
    "    def hello():\n",
    "        print(\"Hello World..\")\n",
    "    \n",
    "obj1 = Emp()\n",
    "print(obj1.a)\n",
    "print(obj1.b)"
   ]
  },
  {
   "cell_type": "code",
   "execution_count": 18,
   "id": "bfd320af",
   "metadata": {},
   "outputs": [
    {
     "name": "stdout",
     "output_type": "stream",
     "text": [
      "10\n",
      "20\n"
     ]
    },
    {
     "ename": "TypeError",
     "evalue": "Emp.hello() takes 0 positional arguments but 1 was given",
     "output_type": "error",
     "traceback": [
      "\u001b[1;31m---------------------------------------------------------------------------\u001b[0m",
      "\u001b[1;31mTypeError\u001b[0m                                 Traceback (most recent call last)",
      "Cell \u001b[1;32mIn[18], line 10\u001b[0m\n\u001b[0;32m      8\u001b[0m \u001b[38;5;28mprint\u001b[39m(obj1\u001b[38;5;241m.\u001b[39ma)\n\u001b[0;32m      9\u001b[0m \u001b[38;5;28mprint\u001b[39m(obj1\u001b[38;5;241m.\u001b[39mb)\n\u001b[1;32m---> 10\u001b[0m obj1\u001b[38;5;241m.\u001b[39mhello()\n",
      "\u001b[1;31mTypeError\u001b[0m: Emp.hello() takes 0 positional arguments but 1 was given"
     ]
    }
   ],
   "source": [
    "class Emp:\n",
    "    a = 10\n",
    "    b = 20 \n",
    "    def hello():\n",
    "        print(\"Hello World..\")\n",
    "    \n",
    "obj1 = Emp()\n",
    "print(obj1.a)\n",
    "print(obj1.b)\n",
    "obj1.hello()"
   ]
  },
  {
   "cell_type": "code",
   "execution_count": 19,
   "id": "8ea38d95",
   "metadata": {},
   "outputs": [
    {
     "name": "stdout",
     "output_type": "stream",
     "text": [
      "10\n",
      "20\n",
      "Hello World..\n"
     ]
    }
   ],
   "source": [
    "class Emp:\n",
    "    a = 10\n",
    "    b = 20 \n",
    "    def hello(self):\n",
    "        print(\"Hello World..\")\n",
    "    \n",
    "obj1 = Emp()\n",
    "print(obj1.a)\n",
    "print(obj1.b)\n",
    "obj1.hello()"
   ]
  },
  {
   "cell_type": "code",
   "execution_count": 22,
   "id": "27fd00c1",
   "metadata": {},
   "outputs": [
    {
     "name": "stdout",
     "output_type": "stream",
     "text": [
      "10\n",
      "20\n",
      "Hello World..\n"
     ]
    }
   ],
   "source": [
    "class Emp:\n",
    "    a = 10\n",
    "    b = 20 \n",
    "    def hello(self):\n",
    "        print(\"Hello World..\")\n",
    "    \n",
    "obj1 = Emp()\n",
    "print(obj1.a)\n",
    "print(obj1.b)\n",
    "obj1.hello()"
   ]
  },
  {
   "cell_type": "code",
   "execution_count": 23,
   "id": "33cf9463",
   "metadata": {},
   "outputs": [],
   "source": [
    "# WAPP to add two numbers using class and object\n",
    "# Use function\n",
    "# 50P"
   ]
  },
  {
   "attachments": {
    "image.png": {
     "image/png": "[encoded data removed]"
    }
   },
   "cell_type": "markdown",
   "id": "6da7fca6",
   "metadata": {},
   "source": [
    "![image.png](attachment:image.png)"
   ]
  },
  {
   "cell_type": "code",
   "execution_count": 25,
   "id": "699aeaf7",
   "metadata": {},
   "outputs": [
    {
     "name": "stdout",
     "output_type": "stream",
     "text": [
      "3\n"
     ]
    }
   ],
   "source": [
    "class Add:\n",
    "    def add(self,a,b):\n",
    "        return a+b\n",
    "\n",
    "a=Add()\n",
    "print(a.add(1,2))"
   ]
  },
  {
   "attachments": {
    "image.png": {
     "image/png": "[encoded data removed]"
    }
   },
   "cell_type": "markdown",
   "id": "cd33ff4f",
   "metadata": {},
   "source": [
    "![image.png](attachment:image.png)"
   ]
  },
  {
   "attachments": {
    "image.png": {
     "image/png": "[encoded data removed]"
    }
   },
   "cell_type": "markdown",
   "id": "f1a226ce",
   "metadata": {},
   "source": [
    "![image.png](attachment:image.png)"
   ]
  },
  {
   "cell_type": "code",
   "execution_count": 26,
   "id": "0042eadf",
   "metadata": {},
   "outputs": [
    {
     "name": "stdout",
     "output_type": "stream",
     "text": [
      "Alex\n",
      "20\n"
     ]
    }
   ],
   "source": [
    "class Person:\n",
    "    def person(self,name,age):\n",
    "        print(name)\n",
    "        print(age)\n",
    "        \n",
    "p = Person()\n",
    "p.person(\"Alex\",20)"
   ]
  },
  {
   "cell_type": "code",
   "execution_count": 8,
   "id": "18f40171",
   "metadata": {},
   "outputs": [
    {
     "name": "stdout",
     "output_type": "stream",
     "text": [
      "My name is Alex\n",
      "and My age is 20\n"
     ]
    }
   ],
   "source": [
    "class Person:\n",
    "    def person(self,name,age):\n",
    "        self.name=name\n",
    "        self.age=age\n",
    "    def display(self):\n",
    "        print(f'My name is {self.name}')\n",
    "        print(f'and My age is {self.age}')\n",
    "        \n",
    "p = Person()\n",
    "p.person(\"Alex\",20)\n",
    "p.display()"
   ]
  },
  {
   "cell_type": "code",
   "execution_count": 5,
   "id": "3bbf1832",
   "metadata": {},
   "outputs": [],
   "source": [
    "# Formatted String"
   ]
  },
  {
   "cell_type": "code",
   "execution_count": 14,
   "id": "f7a0a0a1",
   "metadata": {},
   "outputs": [
    {
     "name": "stdout",
     "output_type": "stream",
     "text": [
      "My name is Ram and my age is 28\n"
     ]
    }
   ],
   "source": [
    "name = \"Ram\"\n",
    "age = 28\n",
    "print(f\"My name is {name} and my age is {age}\")"
   ]
  },
  {
   "cell_type": "code",
   "execution_count": 16,
   "id": "093ced86",
   "metadata": {},
   "outputs": [],
   "source": [
    "# Class "
   ]
  },
  {
   "cell_type": "code",
   "execution_count": 17,
   "id": "237806c8",
   "metadata": {},
   "outputs": [],
   "source": [
    "# Object"
   ]
  },
  {
   "cell_type": "code",
   "execution_count": 18,
   "id": "6b3fef99",
   "metadata": {},
   "outputs": [],
   "source": [
    "# 1. Class is blueprint\n",
    "# 2. Class = variables(Instance Variable) + functions(Methods)\n",
    "# 3. It is template to create object\n",
    "# 4. Class is collection of attributes(ex-variables) and properties(ex-methods)\n",
    "# 5. Example - Person\n",
    "# 6. attributes - name & age\n",
    "# 7. properties - studying,playing\n",
    "#. 8. What is class is not there college?"
   ]
  },
  {
   "cell_type": "code",
   "execution_count": 19,
   "id": "e517c9ef",
   "metadata": {},
   "outputs": [],
   "source": [
    "# WAPP\n",
    "# Create one class : College\n",
    "# Create two object of two students of same class\n",
    "# Display the name & age"
   ]
  },
  {
   "attachments": {
    "image.png": {
     "image/png": "[encoded data removed]"
    }
   },
   "cell_type": "markdown",
   "id": "465e7d6c",
   "metadata": {},
   "source": [
    "![image.png](attachment:image.png)"
   ]
  },
  {
   "attachments": {
    "image.png": {
     "image/png": "[encoded data removed]"
    }
   },
   "cell_type": "markdown",
   "id": "34a46bb7",
   "metadata": {},
   "source": [
    "![image.png](attachment:image.png)"
   ]
  },
  {
   "attachments": {
    "image.png": {
     "image/png": "[encoded data removed]"
    }
   },
   "cell_type": "markdown",
   "id": "a0ed78f6",
   "metadata": {},
   "source": [
    "![image.png](attachment:image.png)"
   ]
  },
  {
   "cell_type": "code",
   "execution_count": 21,
   "id": "4f29b1be",
   "metadata": {},
   "outputs": [
    {
     "name": "stdout",
     "output_type": "stream",
     "text": [
      "Rahul\n",
      "20\n",
      "None\n"
     ]
    }
   ],
   "source": [
    "class College:\n",
    "    def __init__(self,name,age):\n",
    "        self.name=name\n",
    "        self.age=age\n",
    "    def display(self):\n",
    "        print(self.name)\n",
    "        print(self.age)\n",
    "        \n",
    "rahul = College(\"Rahul\",20)\n",
    "print(rahul.display())      "
   ]
  },
  {
   "cell_type": "code",
   "execution_count": 24,
   "id": "54efd60c",
   "metadata": {},
   "outputs": [
    {
     "name": "stdout",
     "output_type": "stream",
     "text": [
      "Rahul\n",
      "20\n"
     ]
    }
   ],
   "source": [
    "class College:\n",
    "    def display(self,name1,age1): \n",
    "        print(name1)\n",
    "        print(age1)\n",
    "        \n",
    "rahul = College()\n",
    "rahul.display(\"Rahul\",20)      "
   ]
  },
  {
   "cell_type": "markdown",
   "id": "7c817923",
   "metadata": {},
   "source": [
    "#### Constructor\n",
    "* 1. It will ensure that the attributes of an object are properly initialized.\n",
    "* 2. When the object is created, the intialization will be done automatically.\n",
    "* 3. Objects are created in the runtime.\n",
    "* 4. __init__() - special method/magic function\n",
    "* 5. the first paramter of the constructor 'self.\n",
    "* 6. Attribute assignment\n",
    "* 7. Inside the constructor , you assign values to the attribute using\n",
    "* self.attribute_name = value \n",
    "* Example - self.name=name\n",
    "* Constructor can additional parameters\n",
    "* Does multiple constructors is possible?\n",
    "* - TRadition method like overloading is not possible but you acheive with\n",
    "* similar behavior with default parameter values"
   ]
  },
  {
   "cell_type": "code",
   "execution_count": 26,
   "id": "4d457099",
   "metadata": {},
   "outputs": [],
   "source": [
    "# Exception Handling"
   ]
  },
  {
   "cell_type": "code",
   "execution_count": 30,
   "id": "d6cb269f",
   "metadata": {},
   "outputs": [
    {
     "name": "stdout",
     "output_type": "stream",
     "text": [
      "Hello World\n",
      "Hello World\n",
      "Hello World\n",
      "You cannot divide number by 0.\n",
      "Hello World\n",
      "Hello World\n"
     ]
    }
   ],
   "source": [
    "print(\"Hello World\")\n",
    "print(\"Hello World\")\n",
    "print(\"Hello World\")\n",
    "try:\n",
    "    print(10/0)\n",
    "except:\n",
    "    print(\"You cannot divide number by 0.\")\n",
    "print(\"Hello World\")\n",
    "print(\"Hello World\")"
   ]
  },
  {
   "cell_type": "code",
   "execution_count": 31,
   "id": "29d658cd",
   "metadata": {},
   "outputs": [
    {
     "name": "stdout",
     "output_type": "stream",
     "text": [
      "Hello World\n",
      "Hello World\n",
      "Hello World\n"
     ]
    },
    {
     "ename": "ZeroDivisionError",
     "evalue": "division by zero",
     "output_type": "error",
     "traceback": [
      "\u001b[1;31m---------------------------------------------------------------------------\u001b[0m",
      "\u001b[1;31mZeroDivisionError\u001b[0m                         Traceback (most recent call last)",
      "Cell \u001b[1;32mIn[31], line 4\u001b[0m\n\u001b[0;32m      2\u001b[0m \u001b[38;5;28mprint\u001b[39m(\u001b[38;5;124m\"\u001b[39m\u001b[38;5;124mHello World\u001b[39m\u001b[38;5;124m\"\u001b[39m)\n\u001b[0;32m      3\u001b[0m \u001b[38;5;28mprint\u001b[39m(\u001b[38;5;124m\"\u001b[39m\u001b[38;5;124mHello World\u001b[39m\u001b[38;5;124m\"\u001b[39m)\n\u001b[1;32m----> 4\u001b[0m \u001b[38;5;28mprint\u001b[39m(\u001b[38;5;241m10\u001b[39m\u001b[38;5;241m/\u001b[39m\u001b[38;5;241m0\u001b[39m)\n",
      "\u001b[1;31mZeroDivisionError\u001b[0m: division by zero"
     ]
    }
   ],
   "source": [
    "print(\"Hello World\")\n",
    "print(\"Hello World\")\n",
    "print(\"Hello World\")\n",
    "print(10/0)\n",
    "\n"
   ]
  },
  {
   "cell_type": "code",
   "execution_count": 32,
   "id": "aa47ebb9",
   "metadata": {},
   "outputs": [],
   "source": [
    "# ZeroDivisionError\n",
    "# TypeError\n",
    "# SyntaxError"
   ]
  },
  {
   "cell_type": "code",
   "execution_count": 33,
   "id": "7dcee86d",
   "metadata": {},
   "outputs": [],
   "source": [
    "# SyntaxError"
   ]
  },
  {
   "cell_type": "code",
   "execution_count": 34,
   "id": "ef27df47",
   "metadata": {},
   "outputs": [
    {
     "ename": "SyntaxError",
     "evalue": "invalid syntax (3341233032.py, line 1)",
     "output_type": "error",
     "traceback": [
      "\u001b[1;36m  Cell \u001b[1;32mIn[34], line 1\u001b[1;36m\u001b[0m\n\u001b[1;33m    a 10\u001b[0m\n\u001b[1;37m      ^\u001b[0m\n\u001b[1;31mSyntaxError\u001b[0m\u001b[1;31m:\u001b[0m invalid syntax\n"
     ]
    }
   ],
   "source": [
    "a 10\n",
    "print(a)"
   ]
  },
  {
   "cell_type": "code",
   "execution_count": 35,
   "id": "f80ba4ed",
   "metadata": {},
   "outputs": [
    {
     "ename": "SyntaxError",
     "evalue": "expected ':' (3662527600.py, line 1)",
     "output_type": "error",
     "traceback": [
      "\u001b[1;36m  Cell \u001b[1;32mIn[35], line 1\u001b[1;36m\u001b[0m\n\u001b[1;33m    if 1>2\u001b[0m\n\u001b[1;37m          ^\u001b[0m\n\u001b[1;31mSyntaxError\u001b[0m\u001b[1;31m:\u001b[0m expected ':'\n"
     ]
    }
   ],
   "source": [
    "if 1>2"
   ]
  },
  {
   "cell_type": "code",
   "execution_count": 36,
   "id": "8524e43b",
   "metadata": {},
   "outputs": [],
   "source": [
    "# TypeError"
   ]
  },
  {
   "cell_type": "code",
   "execution_count": 37,
   "id": "d74fd321",
   "metadata": {},
   "outputs": [
    {
     "ename": "TypeError",
     "evalue": "can only concatenate str (not \"int\") to str",
     "output_type": "error",
     "traceback": [
      "\u001b[1;31m---------------------------------------------------------------------------\u001b[0m",
      "\u001b[1;31mTypeError\u001b[0m                                 Traceback (most recent call last)",
      "Cell \u001b[1;32mIn[37], line 1\u001b[0m\n\u001b[1;32m----> 1\u001b[0m \u001b[38;5;124m'\u001b[39m\u001b[38;5;124mabc\u001b[39m\u001b[38;5;124m'\u001b[39m\u001b[38;5;241m+\u001b[39m\u001b[38;5;241m10\u001b[39m\n",
      "\u001b[1;31mTypeError\u001b[0m: can only concatenate str (not \"int\") to str"
     ]
    }
   ],
   "source": [
    "'abc'+10"
   ]
  },
  {
   "cell_type": "code",
   "execution_count": 38,
   "id": "6fe8b60f",
   "metadata": {},
   "outputs": [
    {
     "name": "stdout",
     "output_type": "stream",
     "text": [
      "Hello World\n",
      "Hello World\n",
      "Hello World\n",
      "You cannot divide number by 0.\n",
      "Hello World\n",
      "Hello World\n"
     ]
    }
   ],
   "source": [
    "print(\"Hello World\")\n",
    "print(\"Hello World\")\n",
    "print(\"Hello World\")\n",
    "try:\n",
    "    print(\"abc\"+10)\n",
    "except:\n",
    "    print(\"You cannot divide number by 0.\")\n",
    "print(\"Hello World\")\n",
    "print(\"Hello World\")"
   ]
  },
  {
   "cell_type": "code",
   "execution_count": 51,
   "id": "afc441af",
   "metadata": {},
   "outputs": [
    {
     "ename": "SyntaxError",
     "evalue": "invalid syntax (3327877160.py, line 6)",
     "output_type": "error",
     "traceback": [
      "\u001b[1;36m  Cell \u001b[1;32mIn[51], line 6\u001b[1;36m\u001b[0m\n\u001b[1;33m    except as e:\u001b[0m\n\u001b[1;37m           ^\u001b[0m\n\u001b[1;31mSyntaxError\u001b[0m\u001b[1;31m:\u001b[0m invalid syntax\n"
     ]
    }
   ],
   "source": [
    "print(\"Hello World\")\n",
    "print(\"Hello World\")\n",
    "print(\"Hello World\")\n",
    "try:\n",
    "    print(10/0)\n",
    "except as e:\n",
    "    print(e)\n",
    "print(\"Hello World\")\n",
    "print(\"Hello World\")"
   ]
  },
  {
   "cell_type": "code",
   "execution_count": 50,
   "id": "39732e56",
   "metadata": {},
   "outputs": [
    {
     "name": "stdout",
     "output_type": "stream",
     "text": [
      "\n",
      "Here is a list of the Python keywords.  Enter any keyword to get more help.\n",
      "\n",
      "False               class               from                or\n",
      "None                continue            global              pass\n",
      "True                def                 if                  raise\n",
      "and                 del                 import              return\n",
      "as                  elif                in                  try\n",
      "assert              else                is                  while\n",
      "async               except              lambda              with\n",
      "await               finally             nonlocal            yield\n",
      "break               for                 not                 \n",
      "\n"
     ]
    }
   ],
   "source": [
    "help(\"keywords\")"
   ]
  },
  {
   "cell_type": "code",
   "execution_count": 52,
   "id": "d7022eee",
   "metadata": {},
   "outputs": [],
   "source": [
    "# Data Structure"
   ]
  },
  {
   "cell_type": "code",
   "execution_count": 53,
   "id": "d8d2d8ca",
   "metadata": {},
   "outputs": [],
   "source": [
    "# 1. List\n",
    "# 2. Tuple\n",
    "# 3. Dictionary\n",
    "# 4. Set"
   ]
  },
  {
   "cell_type": "code",
   "execution_count": 54,
   "id": "bee9f28f",
   "metadata": {},
   "outputs": [],
   "source": [
    "# Why List?"
   ]
  },
  {
   "cell_type": "code",
   "execution_count": 56,
   "id": "8a44b04a",
   "metadata": {},
   "outputs": [
    {
     "name": "stdout",
     "output_type": "stream",
     "text": [
      "10\n"
     ]
    }
   ],
   "source": [
    "a = 10\n",
    "print(a)"
   ]
  },
  {
   "cell_type": "code",
   "execution_count": 57,
   "id": "6268e39d",
   "metadata": {},
   "outputs": [
    {
     "name": "stdout",
     "output_type": "stream",
     "text": [
      "[10, 20, 30, 40]\n"
     ]
    }
   ],
   "source": [
    "a = [10,20,30,40]\n",
    "print(a)"
   ]
  },
  {
   "cell_type": "code",
   "execution_count": 58,
   "id": "d8bec4df",
   "metadata": {},
   "outputs": [
    {
     "name": "stdout",
     "output_type": "stream",
     "text": [
      "<class 'list'>\n"
     ]
    }
   ],
   "source": [
    "a = []\n",
    "print(type(a))"
   ]
  },
  {
   "cell_type": "code",
   "execution_count": 59,
   "id": "f2dfee4a",
   "metadata": {},
   "outputs": [
    {
     "name": "stdout",
     "output_type": "stream",
     "text": [
      "<class 'int'>\n"
     ]
    }
   ],
   "source": [
    "a = 20\n",
    "print(type(a))"
   ]
  },
  {
   "cell_type": "code",
   "execution_count": 60,
   "id": "c16cb477",
   "metadata": {},
   "outputs": [
    {
     "name": "stdout",
     "output_type": "stream",
     "text": [
      "<class 'str'>\n"
     ]
    }
   ],
   "source": [
    "a = \"20.1\"\n",
    "print(type(a))"
   ]
  },
  {
   "cell_type": "code",
   "execution_count": 61,
   "id": "3b1245cc",
   "metadata": {},
   "outputs": [
    {
     "name": "stdout",
     "output_type": "stream",
     "text": [
      "<class 'str'>\n"
     ]
    }
   ],
   "source": [
    "a = \"abc\"\n",
    "print(type(a))"
   ]
  },
  {
   "cell_type": "code",
   "execution_count": 62,
   "id": "49658741",
   "metadata": {},
   "outputs": [
    {
     "name": "stdout",
     "output_type": "stream",
     "text": [
      "<class 'str'>\n"
     ]
    }
   ],
   "source": [
    "a = 'c'\n",
    "print(type(a))"
   ]
  },
  {
   "cell_type": "code",
   "execution_count": 63,
   "id": "0868aa96",
   "metadata": {},
   "outputs": [
    {
     "name": "stdout",
     "output_type": "stream",
     "text": [
      "<class 'tuple'>\n"
     ]
    }
   ],
   "source": [
    "myTyple = ()\n",
    "print(type(myTyple))"
   ]
  },
  {
   "cell_type": "code",
   "execution_count": 65,
   "id": "a8697b4f",
   "metadata": {},
   "outputs": [
    {
     "name": "stdout",
     "output_type": "stream",
     "text": [
      "<class 'dict'>\n"
     ]
    }
   ],
   "source": [
    "dictionary = {}\n",
    "print(type(dictionary))"
   ]
  },
  {
   "cell_type": "code",
   "execution_count": 70,
   "id": "aeedd64e",
   "metadata": {},
   "outputs": [
    {
     "name": "stdout",
     "output_type": "stream",
     "text": [
      "<class 'dict'>\n"
     ]
    }
   ],
   "source": [
    "set1 = {5:\"a\"}\n",
    "print(type(set1))"
   ]
  },
  {
   "cell_type": "code",
   "execution_count": null,
   "id": "6a590a0d",
   "metadata": {},
   "outputs": [],
   "source": [
    "a=[] \n",
    "b={}\n",
    "c=()\n",
    "d={None}"
   ]
  },
  {
   "cell_type": "code",
   "execution_count": 72,
   "id": "9281fe97",
   "metadata": {},
   "outputs": [],
   "source": [
    "a=list()\n",
    "b=tuple()\n",
    "c=set()\n",
    "d=dict()"
   ]
  },
  {
   "cell_type": "code",
   "execution_count": 73,
   "id": "71c2e785",
   "metadata": {},
   "outputs": [
    {
     "name": "stdout",
     "output_type": "stream",
     "text": [
      "[1, 2, 3, 4]\n"
     ]
    }
   ],
   "source": [
    "a=[1,2,3,4]\n",
    "print(a)"
   ]
  },
  {
   "cell_type": "code",
   "execution_count": 74,
   "id": "163ef210",
   "metadata": {},
   "outputs": [
    {
     "name": "stdout",
     "output_type": "stream",
     "text": [
      "2\n"
     ]
    }
   ],
   "source": [
    "print(a[1])"
   ]
  },
  {
   "cell_type": "code",
   "execution_count": 75,
   "id": "ed08fa30",
   "metadata": {},
   "outputs": [
    {
     "name": "stdout",
     "output_type": "stream",
     "text": [
      "4\n"
     ]
    }
   ],
   "source": [
    "print(a[3])"
   ]
  },
  {
   "cell_type": "code",
   "execution_count": 76,
   "id": "51663049",
   "metadata": {},
   "outputs": [],
   "source": [
    "# Index will always starts from 0"
   ]
  },
  {
   "cell_type": "code",
   "execution_count": 78,
   "id": "8224cbb5",
   "metadata": {},
   "outputs": [
    {
     "name": "stdout",
     "output_type": "stream",
     "text": [
      "[2, 3, 4]\n"
     ]
    }
   ],
   "source": [
    "print(a[1:4])"
   ]
  },
  {
   "cell_type": "code",
   "execution_count": 79,
   "id": "db035648",
   "metadata": {},
   "outputs": [
    {
     "name": "stdout",
     "output_type": "stream",
     "text": [
      "[60, 80]\n"
     ]
    }
   ],
   "source": [
    "a=[10,50,60,80,90]\n",
    "print(a[2:4])"
   ]
  },
  {
   "cell_type": "code",
   "execution_count": 80,
   "id": "67f16fc7",
   "metadata": {},
   "outputs": [],
   "source": [
    "# List"
   ]
  },
  {
   "cell_type": "code",
   "execution_count": 81,
   "id": "6c7da21c",
   "metadata": {},
   "outputs": [],
   "source": [
    "# List & Array(numpy)"
   ]
  },
  {
   "cell_type": "code",
   "execution_count": 82,
   "id": "cf71a7a3",
   "metadata": {},
   "outputs": [],
   "source": [
    "# 1. Dynamic\n",
    "# 2. Array will store same type of Data\n",
    "# 3. Arrays is 10x than list\n",
    "# 4. [] or list()\n",
    "# 5. It is built-in Data Type\n",
    "# 6. Mutable = Elements can be changes\n",
    "# 7. List Comprehensions"
   ]
  },
  {
   "cell_type": "code",
   "execution_count": 84,
   "id": "c9a4b93b",
   "metadata": {},
   "outputs": [
    {
     "name": "stdout",
     "output_type": "stream",
     "text": [
      "<class 'float'>\n"
     ]
    }
   ],
   "source": [
    "emp = [\"Alex\",28,28000.0]\n",
    "print(type(emp[2]))"
   ]
  },
  {
   "cell_type": "code",
   "execution_count": 85,
   "id": "2162a931",
   "metadata": {},
   "outputs": [
    {
     "name": "stdout",
     "output_type": "stream",
     "text": [
      "80\n"
     ]
    }
   ],
   "source": [
    "num=[10,30,40,80]\n",
    "print(num[-1])"
   ]
  },
  {
   "cell_type": "code",
   "execution_count": 86,
   "id": "8bf053b4",
   "metadata": {},
   "outputs": [],
   "source": [
    "# Indexing = Positive indexing , Negative indexing"
   ]
  },
  {
   "cell_type": "code",
   "execution_count": 87,
   "id": "dd97d56d",
   "metadata": {},
   "outputs": [
    {
     "name": "stdout",
     "output_type": "stream",
     "text": [
      "30\n"
     ]
    }
   ],
   "source": [
    "num=[10,30,40,80]\n",
    "print(num[-3])"
   ]
  },
  {
   "cell_type": "code",
   "execution_count": 90,
   "id": "cbf50eb0",
   "metadata": {},
   "outputs": [
    {
     "name": "stdout",
     "output_type": "stream",
     "text": [
      "80\n"
     ]
    }
   ],
   "source": [
    "num=[10,30,40,80]\n",
    "print(num[-1])"
   ]
  },
  {
   "cell_type": "code",
   "execution_count": 91,
   "id": "6cb9effc",
   "metadata": {},
   "outputs": [
    {
     "name": "stdout",
     "output_type": "stream",
     "text": [
      "10\n"
     ]
    }
   ],
   "source": [
    "num=[10,30,40,80]\n",
    "print(num[0])"
   ]
  },
  {
   "cell_type": "code",
   "execution_count": 93,
   "id": "1b36f6a4",
   "metadata": {},
   "outputs": [
    {
     "name": "stdout",
     "output_type": "stream",
     "text": [
      "['Alex', 28, 28000.0, 'python']\n"
     ]
    }
   ],
   "source": [
    "emp = [\"Alex\",28,28000.0]\n",
    "emp.append(\"python\")\n",
    "print(emp)"
   ]
  },
  {
   "cell_type": "code",
   "execution_count": 95,
   "id": "766c1134",
   "metadata": {},
   "outputs": [
    {
     "name": "stdout",
     "output_type": "stream",
     "text": [
      "['Alex', 28, 28000.0, 'Java']\n"
     ]
    }
   ],
   "source": [
    "emp = [\"Alex\",28,28000.0]\n",
    "emp.append(\"Java\")\n",
    "print(emp)"
   ]
  },
  {
   "cell_type": "code",
   "execution_count": 112,
   "id": "564b1894",
   "metadata": {},
   "outputs": [
    {
     "ename": "AttributeError",
     "evalue": "'tuple' object has no attribute 'append'",
     "output_type": "error",
     "traceback": [
      "\u001b[1;31m---------------------------------------------------------------------------\u001b[0m",
      "\u001b[1;31mAttributeError\u001b[0m                            Traceback (most recent call last)",
      "Cell \u001b[1;32mIn[112], line 2\u001b[0m\n\u001b[0;32m      1\u001b[0m emp \u001b[38;5;241m=\u001b[39m (\u001b[38;5;124m\"\u001b[39m\u001b[38;5;124mAlex\u001b[39m\u001b[38;5;124m\"\u001b[39m,\u001b[38;5;241m28\u001b[39m,\u001b[38;5;241m28000.0\u001b[39m)\n\u001b[1;32m----> 2\u001b[0m emp\u001b[38;5;241m.\u001b[39mappend(\u001b[38;5;124m\"\u001b[39m\u001b[38;5;124mJava\u001b[39m\u001b[38;5;124m\"\u001b[39m)\n\u001b[0;32m      3\u001b[0m emp\u001b[38;5;241m.\u001b[39mappend(\u001b[38;5;124m\"\u001b[39m\u001b[38;5;124mPython\u001b[39m\u001b[38;5;124m\"\u001b[39m)\n\u001b[0;32m      4\u001b[0m \u001b[38;5;28mprint\u001b[39m(emp)\n",
      "\u001b[1;31mAttributeError\u001b[0m: 'tuple' object has no attribute 'append'"
     ]
    }
   ],
   "source": [
    "emp = [\"Alex\",28,28000.0]\n",
    "emp.append(\"Java\")\n",
    "emp.append(\"Python\")\n",
    "print(emp)"
   ]
  },
  {
   "cell_type": "code",
   "execution_count": 99,
   "id": "68406cbf",
   "metadata": {},
   "outputs": [
    {
     "name": "stdout",
     "output_type": "stream",
     "text": [
      "['Alex', 28, 28000.0, 'Java', 'Python']\n"
     ]
    }
   ],
   "source": [
    "emp = [\"Alex\",28,28000.0]\n",
    "emp.extend([\"Java\",\"Python\"])\n",
    "print(emp)"
   ]
  },
  {
   "cell_type": "code",
   "execution_count": 100,
   "id": "ca6ce284",
   "metadata": {},
   "outputs": [
    {
     "name": "stdout",
     "output_type": "stream",
     "text": [
      "6653\n"
     ]
    }
   ],
   "source": [
    "salary = [2000,3000,4454,6653,1002]\n",
    "print(max(salary))"
   ]
  },
  {
   "cell_type": "code",
   "execution_count": 111,
   "id": "279c96bc",
   "metadata": {},
   "outputs": [
    {
     "name": "stdout",
     "output_type": "stream",
     "text": [
      "1002\n"
     ]
    }
   ],
   "source": [
    "salary = [2000,3000,4454,6653,1002]\n",
    "print(min(salary))"
   ]
  },
  {
   "cell_type": "code",
   "execution_count": 103,
   "id": "cf2c8a25",
   "metadata": {},
   "outputs": [
    {
     "name": "stdout",
     "output_type": "stream",
     "text": [
      "10\n",
      "30\n",
      "40\n",
      "80\n"
     ]
    }
   ],
   "source": [
    "num=[10,30,40,80]\n",
    "for i in num:\n",
    "    print(i)"
   ]
  },
  {
   "cell_type": "code",
   "execution_count": 108,
   "id": "136ec891",
   "metadata": {},
   "outputs": [
    {
     "name": "stdout",
     "output_type": "stream",
     "text": [
      "45\n",
      "123\n"
     ]
    }
   ],
   "source": [
    "num = [20,45,80,100,123]\n",
    "for i in num:\n",
    "    if i%2==1:\n",
    "        print(i)"
   ]
  },
  {
   "cell_type": "code",
   "execution_count": 109,
   "id": "9dbcc294",
   "metadata": {},
   "outputs": [
    {
     "name": "stdout",
     "output_type": "stream",
     "text": [
      "[5000, 3000, 4454, 6653, 1002]\n"
     ]
    }
   ],
   "source": [
    "salary = [2000,3000,4454,6653,1002]\n",
    "salary[0]=5000\n",
    "print(salary)"
   ]
  },
  {
   "cell_type": "code",
   "execution_count": 110,
   "id": "337fb031",
   "metadata": {},
   "outputs": [
    {
     "name": "stdout",
     "output_type": "stream",
     "text": [
      "5\n"
     ]
    }
   ],
   "source": [
    "print(len(salary))"
   ]
  },
  {
   "cell_type": "code",
   "execution_count": 114,
   "id": "37c1df87",
   "metadata": {},
   "outputs": [],
   "source": [
    "#concat the list"
   ]
  },
  {
   "cell_type": "code",
   "execution_count": 115,
   "id": "e1b872d5",
   "metadata": {},
   "outputs": [
    {
     "name": "stdout",
     "output_type": "stream",
     "text": [
      "[10, 30, 40, 50, 60, 80]\n"
     ]
    }
   ],
   "source": [
    "list1=[10,30,40]\n",
    "list2=[50,60,80]\n",
    "print(list1+list2)"
   ]
  },
  {
   "cell_type": "code",
   "execution_count": 116,
   "id": "961cb20d",
   "metadata": {},
   "outputs": [
    {
     "ename": "TypeError",
     "evalue": "'tuple' object does not support item assignment",
     "output_type": "error",
     "traceback": [
      "\u001b[1;31m---------------------------------------------------------------------------\u001b[0m",
      "\u001b[1;31mTypeError\u001b[0m                                 Traceback (most recent call last)",
      "Cell \u001b[1;32mIn[116], line 2\u001b[0m\n\u001b[0;32m      1\u001b[0m salary \u001b[38;5;241m=\u001b[39m (\u001b[38;5;241m2000\u001b[39m,\u001b[38;5;241m3000\u001b[39m,\u001b[38;5;241m4454\u001b[39m,\u001b[38;5;241m6653\u001b[39m,\u001b[38;5;241m1002\u001b[39m)\n\u001b[1;32m----> 2\u001b[0m salary[\u001b[38;5;241m0\u001b[39m]\u001b[38;5;241m=\u001b[39m\u001b[38;5;241m5000\u001b[39m\n\u001b[0;32m      3\u001b[0m \u001b[38;5;28mprint\u001b[39m(salary)\n",
      "\u001b[1;31mTypeError\u001b[0m: 'tuple' object does not support item assignment"
     ]
    }
   ],
   "source": [
    "salary = (2000,3000,4454,6653,1002)\n",
    "salary[0]=5000\n",
    "print(salary)"
   ]
  },
  {
   "cell_type": "code",
   "execution_count": 119,
   "id": "e03307d9",
   "metadata": {},
   "outputs": [
    {
     "name": "stdout",
     "output_type": "stream",
     "text": [
      "(5000, 3000, 4454, 6653, 1002)\n"
     ]
    }
   ],
   "source": [
    "salary = (2000,3000,4454,6653,1002)\n",
    "salary1 = list(salary)\n",
    "salary1[0]=5000\n",
    "print(tuple(salary1))"
   ]
  },
  {
   "cell_type": "code",
   "execution_count": 120,
   "id": "08953c23",
   "metadata": {},
   "outputs": [],
   "source": [
    "# Dictionary"
   ]
  },
  {
   "cell_type": "code",
   "execution_count": 121,
   "id": "63cd4b02",
   "metadata": {},
   "outputs": [
    {
     "name": "stdout",
     "output_type": "stream",
     "text": [
      "{'alex': 30}\n"
     ]
    }
   ],
   "source": [
    "name = {\"alex\":30}\n",
    "print(name)"
   ]
  },
  {
   "cell_type": "code",
   "execution_count": 122,
   "id": "368c3973",
   "metadata": {},
   "outputs": [
    {
     "name": "stdout",
     "output_type": "stream",
     "text": [
      "30\n"
     ]
    }
   ],
   "source": [
    "print(name[\"alex\"])"
   ]
  },
  {
   "cell_type": "code",
   "execution_count": 123,
   "id": "be9ba23a",
   "metadata": {},
   "outputs": [],
   "source": [
    "# alex = key\n",
    "# 30 = value"
   ]
  },
  {
   "cell_type": "code",
   "execution_count": 124,
   "id": "8a4f4009",
   "metadata": {},
   "outputs": [
    {
     "name": "stdout",
     "output_type": "stream",
     "text": [
      "{'alex': 60}\n"
     ]
    }
   ],
   "source": [
    "name = {\"alex\":30}\n",
    "name[\"alex\"]=60\n",
    "print(name)"
   ]
  },
  {
   "cell_type": "code",
   "execution_count": 125,
   "id": "77b671d1",
   "metadata": {},
   "outputs": [
    {
     "name": "stdout",
     "output_type": "stream",
     "text": [
      "{'alex': 30, 'ram': 60}\n"
     ]
    }
   ],
   "source": [
    "name = {\"alex\":30}\n",
    "name[\"ram\"]=60\n",
    "print(name)"
   ]
  },
  {
   "cell_type": "code",
   "execution_count": 128,
   "id": "150a7d6d",
   "metadata": {},
   "outputs": [
    {
     "ename": "TypeError",
     "evalue": "unsupported operand type(s) for +: 'dict' and 'dict'",
     "output_type": "error",
     "traceback": [
      "\u001b[1;31m---------------------------------------------------------------------------\u001b[0m",
      "\u001b[1;31mTypeError\u001b[0m                                 Traceback (most recent call last)",
      "Cell \u001b[1;32mIn[128], line 3\u001b[0m\n\u001b[0;32m      1\u001b[0m dict1\u001b[38;5;241m=\u001b[39m{\u001b[38;5;241m1\u001b[39m:\u001b[38;5;241m10\u001b[39m,\u001b[38;5;241m2\u001b[39m:\u001b[38;5;241m20\u001b[39m}\n\u001b[0;32m      2\u001b[0m dict2\u001b[38;5;241m=\u001b[39m{\u001b[38;5;241m3\u001b[39m:\u001b[38;5;241m30\u001b[39m,\u001b[38;5;241m4\u001b[39m:\u001b[38;5;241m40\u001b[39m}\n\u001b[1;32m----> 3\u001b[0m \u001b[38;5;28mprint\u001b[39m(dict1\u001b[38;5;241m+\u001b[39mdict2)\n",
      "\u001b[1;31mTypeError\u001b[0m: unsupported operand type(s) for +: 'dict' and 'dict'"
     ]
    }
   ],
   "source": [
    "dict1={1:10,2:20}\n",
    "dict2={3:30,4:40}\n",
    "print(dict1+dict2)"
   ]
  },
  {
   "cell_type": "code",
   "execution_count": 129,
   "id": "c874e341",
   "metadata": {},
   "outputs": [
    {
     "name": "stdout",
     "output_type": "stream",
     "text": [
      "{1: 10, 2: 20, 3: 30, 4: 40}\n"
     ]
    }
   ],
   "source": [
    "dict1.update(dict2)\n",
    "print(dict1)"
   ]
  },
  {
   "cell_type": "code",
   "execution_count": 130,
   "id": "e02da1dc",
   "metadata": {},
   "outputs": [
    {
     "name": "stdout",
     "output_type": "stream",
     "text": [
      "{1: 10, 2: 20, 3: 30, 4: 40}\n"
     ]
    }
   ],
   "source": [
    "dict1={1:10,2:20}\n",
    "dict2={3:30,4:40}\n",
    "dict3={}\n",
    "dict3.update(dict1)\n",
    "dict3.update(dict2)\n",
    "print(dict3)"
   ]
  },
  {
   "cell_type": "code",
   "execution_count": 131,
   "id": "a8842473",
   "metadata": {},
   "outputs": [
    {
     "name": "stdout",
     "output_type": "stream",
     "text": [
      "2\n"
     ]
    }
   ],
   "source": [
    "dict1={1:10,2:20}\n",
    "dict2={1:30,2:40}\n",
    "dict3={}\n",
    "dict3.update(dict1)\n",
    "dict3.update(dict2)\n",
    "print(len(dict3))"
   ]
  },
  {
   "cell_type": "code",
   "execution_count": 133,
   "id": "f88bf777",
   "metadata": {},
   "outputs": [
    {
     "name": "stdout",
     "output_type": "stream",
     "text": [
      "{1: 10, 2: 40}\n"
     ]
    }
   ],
   "source": [
    "dict1={1:10,2:20,2:40}\n",
    "print(dict1)"
   ]
  },
  {
   "cell_type": "code",
   "execution_count": 134,
   "id": "f9a810c5",
   "metadata": {},
   "outputs": [
    {
     "name": "stdout",
     "output_type": "stream",
     "text": [
      "dict_keys([1, 2])\n"
     ]
    }
   ],
   "source": [
    "print(dict1.keys())"
   ]
  },
  {
   "cell_type": "code",
   "execution_count": 136,
   "id": "9d18b81b",
   "metadata": {},
   "outputs": [
    {
     "name": "stdout",
     "output_type": "stream",
     "text": [
      "dict_keys(['Name', 'Age'])\n"
     ]
    }
   ],
   "source": [
    "dict1={\"Name\":\"Ram\",\"Age\":30}\n",
    "print(dict1.keys())"
   ]
  },
  {
   "cell_type": "code",
   "execution_count": 137,
   "id": "052e82f2",
   "metadata": {},
   "outputs": [
    {
     "name": "stdout",
     "output_type": "stream",
     "text": [
      "dict_values(['Ram', 30])\n"
     ]
    }
   ],
   "source": [
    "dict1={\"Name\":\"Ram\",\"Age\":30}\n",
    "print(dict1.values())"
   ]
  },
  {
   "cell_type": "code",
   "execution_count": 138,
   "id": "4e4b22b5",
   "metadata": {},
   "outputs": [
    {
     "name": "stdout",
     "output_type": "stream",
     "text": [
      "dict_items([('Name', 'Ram'), ('Age', 30)])\n"
     ]
    }
   ],
   "source": [
    "dict1={\"Name\":\"Ram\",\"Age\":30}\n",
    "print(dict1.items())"
   ]
  },
  {
   "cell_type": "code",
   "execution_count": 141,
   "id": "e428241e",
   "metadata": {},
   "outputs": [
    {
     "name": "stdout",
     "output_type": "stream",
     "text": [
      "{'Name': 'Ram'}\n"
     ]
    }
   ],
   "source": [
    "dict1={\"Name\":\"Ram\",\"Age\":30}\n",
    "del dict1[\"Age\"]\n",
    "print(dict1)"
   ]
  },
  {
   "cell_type": "code",
   "execution_count": 142,
   "id": "ec274e92",
   "metadata": {},
   "outputs": [
    {
     "name": "stdout",
     "output_type": "stream",
     "text": [
      "\n",
      "Here is a list of the Python keywords.  Enter any keyword to get more help.\n",
      "\n",
      "False               class               from                or\n",
      "None                continue            global              pass\n",
      "True                def                 if                  raise\n",
      "and                 del                 import              return\n",
      "as                  elif                in                  try\n",
      "assert              else                is                  while\n",
      "async               except              lambda              with\n",
      "await               finally             nonlocal            yield\n",
      "break               for                 not                 \n",
      "\n"
     ]
    }
   ],
   "source": [
    "help(\"keywords\")"
   ]
  },
  {
   "cell_type": "code",
   "execution_count": 143,
   "id": "c5ad3d09",
   "metadata": {},
   "outputs": [],
   "source": [
    "# Sets"
   ]
  },
  {
   "cell_type": "code",
   "execution_count": 144,
   "id": "5757d71a",
   "metadata": {},
   "outputs": [],
   "source": [
    "a = {None}"
   ]
  },
  {
   "cell_type": "code",
   "execution_count": 145,
   "id": "1d1386c8",
   "metadata": {},
   "outputs": [
    {
     "name": "stdout",
     "output_type": "stream",
     "text": [
      "[2, 3, 4, 'India', 10, 'Nepal']\n"
     ]
    }
   ],
   "source": [
    "a = [2,3,4,\"India\",10,\"Nepal\"]\n",
    "print(a)"
   ]
  },
  {
   "cell_type": "code",
   "execution_count": 149,
   "id": "bb4dc603",
   "metadata": {},
   "outputs": [
    {
     "name": "stdout",
     "output_type": "stream",
     "text": [
      "['Korea', 2, 3, 4, 'India', 10, 'Nepal', 60]\n"
     ]
    }
   ],
   "source": [
    "a = {\"Korea\",2,3,4,\"India\",10,\"Nepal\",60}\n",
    "print(a)"
   ]
  },
  {
   "cell_type": "code",
   "execution_count": 150,
   "id": "e375e6bd",
   "metadata": {},
   "outputs": [
    {
     "name": "stdout",
     "output_type": "stream",
     "text": [
      "{1, 2}\n"
     ]
    }
   ],
   "source": [
    "a = {1,2,2}\n",
    "print(a)"
   ]
  },
  {
   "cell_type": "code",
   "execution_count": 151,
   "id": "7688fe6e",
   "metadata": {},
   "outputs": [
    {
     "name": "stdout",
     "output_type": "stream",
     "text": [
      "{1, 2}\n"
     ]
    }
   ],
   "source": [
    "a = {1,2,2}\n",
    "print(a)"
   ]
  },
  {
   "cell_type": "code",
   "execution_count": 152,
   "id": "ccbc950a",
   "metadata": {},
   "outputs": [
    {
     "name": "stdout",
     "output_type": "stream",
     "text": [
      "{1, 2, 3, 4, 5}\n"
     ]
    }
   ],
   "source": [
    "set1 = {1,2,3}\n",
    "set2 = {3,4,5}\n",
    "res=set1.union(set2)\n",
    "print(res)"
   ]
  },
  {
   "cell_type": "code",
   "execution_count": 154,
   "id": "7aa30f09",
   "metadata": {},
   "outputs": [
    {
     "name": "stdout",
     "output_type": "stream",
     "text": [
      "{3}\n"
     ]
    }
   ],
   "source": [
    "set1 = {1,2,3}\n",
    "set2 = {3,4,5}\n",
    "res=set1.intersection(set2)\n",
    "print(res)"
   ]
  },
  {
   "cell_type": "code",
   "execution_count": 155,
   "id": "b4816d07",
   "metadata": {},
   "outputs": [
    {
     "name": "stdout",
     "output_type": "stream",
     "text": [
      "{1, 2}\n"
     ]
    }
   ],
   "source": [
    "set1 = {1,2,3}\n",
    "set2 = {3,4,5}\n",
    "res=set1-set2\n",
    "print(res)"
   ]
  },
  {
   "cell_type": "code",
   "execution_count": 156,
   "id": "ce53c48c",
   "metadata": {},
   "outputs": [
    {
     "name": "stdout",
     "output_type": "stream",
     "text": [
      "{4, 5}\n"
     ]
    }
   ],
   "source": [
    "set1 = {1,2,3}\n",
    "set2 = {3,4,5}\n",
    "res=set2-set1\n",
    "print(res)"
   ]
  },
  {
   "cell_type": "code",
   "execution_count": 157,
   "id": "b2a8db2c",
   "metadata": {},
   "outputs": [
    {
     "name": "stdout",
     "output_type": "stream",
     "text": [
      "{1, 2, 3, 4, 5}\n"
     ]
    }
   ],
   "source": [
    "set1 = {1,2,3}\n",
    "set2 = {3,4,5}\n",
    "res=set2|set1\n",
    "print(res)"
   ]
  },
  {
   "cell_type": "code",
   "execution_count": null,
   "id": "6d9f48bd",
   "metadata": {},
   "outputs": [],
   "source": []
  }
 ],
 "metadata": {
  "kernelspec": {
   "display_name": "Python 3 (ipykernel)",
   "language": "python",
   "name": "python3"
  },
  "language_info": {
   "codemirror_mode": {
    "name": "ipython",
    "version": 3
   },
   "file_extension": ".py",
   "mimetype": "text/x-python",
   "name": "python",
   "nbconvert_exporter": "python",
   "pygments_lexer": "ipython3",
   "version": "3.11.3"
  }
 },
 "nbformat": 4,
 "nbformat_minor": 5
}
