{
 "cells": [
  {
   "cell_type": "code",
   "execution_count": 1,
   "id": "f019b5c1",
   "metadata": {
    "scrolled": true
   },
   "outputs": [
    {
     "name": "stdout",
     "output_type": "stream",
     "text": [
      "Connected\n"
     ]
    }
   ],
   "source": [
    "import pymongo\n",
    "\n",
    "uri = \"mongodb://localhost:27017/\"\n",
    "\n",
    "client = pymongo.MongoClient(uri)\n",
    "\n",
    "db = client.infy\n",
    "\n",
    "collection = db.employee\n",
    "\n",
    "print(\"Connected\")\n",
    "\n",
    "client.close()"
   ]
  },
  {
   "cell_type": "code",
   "execution_count": 7,
   "id": "99b65fe9",
   "metadata": {
    "scrolled": true
   },
   "outputs": [
    {
     "name": "stdout",
     "output_type": "stream",
     "text": [
      "Defaulting to user installation because normal site-packages is not writeableNote: you may need to restart the kernel to use updated packages.\n",
      "\n",
      "Collecting pymongo\n",
      "  Obtaining dependency information for pymongo from https://files.pythonhosted.org/packages/4d/88/7b9bfad1ad6269e0b9e0bb39d093aabc27837da4ccb93391cda68f580984/pymongo-4.5.0-cp311-cp311-win_amd64.whl.metadata\n",
      "  Downloading pymongo-4.5.0-cp311-cp311-win_amd64.whl.metadata (22 kB)\n",
      "Collecting dnspython<3.0.0,>=1.16.0 (from pymongo)\n",
      "  Obtaining dependency information for dnspython<3.0.0,>=1.16.0 from https://files.pythonhosted.org/packages/f6/b4/0a9bee52c50f226a3cbfb54263d02bb421c7f2adc136520729c2c689c1e5/dnspython-2.4.2-py3-none-any.whl.metadata\n",
      "  Using cached dnspython-2.4.2-py3-none-any.whl.metadata (4.9 kB)\n",
      "Downloading pymongo-4.5.0-cp311-cp311-win_amd64.whl (468 kB)\n",
      "   ---------------------------------------- 0.0/468.2 kB ? eta -:--:--\n",
      "   --- ------------------------------------ 41.0/468.2 kB 2.0 MB/s eta 0:00:01\n",
      "   ------- -------------------------------- 92.2/468.2 kB 1.3 MB/s eta 0:00:01\n",
      "   ------------- -------------------------- 153.6/468.2 kB 1.5 MB/s eta 0:00:01\n",
      "   --------------------------- ------------ 317.4/468.2 kB 2.5 MB/s eta 0:00:01\n",
      "   ---------------------------------------  460.8/468.2 kB 2.6 MB/s eta 0:00:01\n",
      "   ---------------------------------------- 468.2/468.2 kB 2.4 MB/s eta 0:00:00\n",
      "Using cached dnspython-2.4.2-py3-none-any.whl (300 kB)\n",
      "Installing collected packages: dnspython, pymongo\n",
      "Successfully installed dnspython-2.4.2 pymongo-4.5.0\n"
     ]
    }
   ],
   "source": [
    "pip install pymongo\n"
   ]
  },
  {
   "cell_type": "code",
   "execution_count": 11,
   "id": "4f2807ae",
   "metadata": {
    "scrolled": true
   },
   "outputs": [
    {
     "name": "stdout",
     "output_type": "stream",
     "text": [
      "Connected\n",
      "{'_id': ObjectId('6523d1bf441bd18cba472688'), 'employees': [{'employee_id': 1, 'first_name': 'Alice', 'last_name': 'Johnson', 'email': 'alice.johnson@example.com', 'phone': '555-111-2222', 'department': 'HR', 'position': 'HR Manager', 'salary': 60000}, {'employee_id': 2, 'first_name': 'Bob', 'last_name': 'Smith', 'email': 'bob.smith@example.com', 'phone': '555-222-3333', 'department': 'Engineering', 'position': 'Software Engineer', 'salary': 75000}, {'employee_id': 3, 'first_name': 'Eva', 'last_name': 'Williams', 'email': 'eva.williams@example.com', 'phone': '555-333-4444', 'department': 'Marketing', 'position': 'Marketing Coordinator', 'salary': 55000}]}\n",
      "{'_id': ObjectId('6523daa92f930d40eab6a621'), 'name': 'Rahul Singh', 'age': 22, 'email': 'rs@gmail.com'}\n",
      "{'_id': ObjectId('6523daba2f930d40eab6a623'), 'name': 'Rahul Singh', 'age': 22, 'email': 'rs@gmail.com'}\n",
      "{'_id': ObjectId('6523daec2f930d40eab6a625'), 'name': 'Rahul Singh', 'age': 22, 'email': 'rs@gmail.com'}\n",
      "{'_id': ObjectId('6523dc202f930d40eab6a627'), 'name': 'Rahul Singh', 'age': 22, 'email': 'rs@gmail.com'}\n",
      "{'_id': ObjectId('6523dc392f930d40eab6a629'), 'name': 'Rahul Singh', 'age': 22, 'email': 'rs@gmail.com'}\n",
      "{'_id': ObjectId('6523dc4c2f930d40eab6a62b'), 'name': 'Rahul Singh', 'age': 22, 'email': 'rs@gmail.com'}\n"
     ]
    }
   ],
   "source": [
    "import pymongo\n",
    "from bson.objectid import ObjectId\n",
    "\n",
    "uri = \"mongodb://localhost:27017/\"\n",
    "\n",
    "client = pymongo.MongoClient(uri)\n",
    "\n",
    "db = client.infy\n",
    "\n",
    "collection = db.employee\n",
    "\n",
    "if db is not None:\n",
    "    print(\"Connected\")\n",
    "\n",
    "data = {\n",
    "    \"name\": \"Rahul Singh\",\n",
    "    \"age\": 22,\n",
    "    \"email\": \"rs@gmail.com\"\n",
    "}\n",
    "\n",
    "insert = collection.insert_one(data)\n",
    "\n",
    "deldata = {\"_id\": ObjectId('6523cf4f441bd18cba472685')}\n",
    "\n",
    "result = collection.delete_one(deldata)\n",
    "\n",
    "cursor = collection.find({})\n",
    "\n",
    "for document in cursor:\n",
    "    print(document)\n",
    "\n",
    "client.close()\n"
   ]
  },
  {
   "cell_type": "code",
   "execution_count": 15,
   "id": "ac88792d",
   "metadata": {},
   "outputs": [
    {
     "name": "stdout",
     "output_type": "stream",
     "text": [
      "Connected\n",
      "{'_id': ObjectId('6523d1bf441bd18cba472688'), 'employees': [{'employee_id': 1, 'first_name': 'Alice', 'last_name': 'Johnson', 'email': 'alice.johnson@example.com', 'phone': '555-111-2222', 'department': 'HR', 'position': 'HR Manager', 'salary': 60000}, {'employee_id': 2, 'first_name': 'Bob', 'last_name': 'Smith', 'email': 'bob.smith@example.com', 'phone': '555-222-3333', 'department': 'Engineering', 'position': 'Software Engineer', 'salary': 75000}, {'employee_id': 3, 'first_name': 'Eva', 'last_name': 'Williams', 'email': 'eva.williams@example.com', 'phone': '555-333-4444', 'department': 'Marketing', 'position': 'Marketing Coordinator', 'salary': 55000}]}\n",
      "{'_id': ObjectId('6523daa92f930d40eab6a621'), 'name': 'Rahul Singh', 'age': 22, 'email': 'rs@gmail.com'}\n",
      "{'_id': ObjectId('6523daba2f930d40eab6a623'), 'name': 'Rohit Singh', 'age': 20, 'email': 'rs@gmail.com'}\n",
      "{'_id': ObjectId('6523daec2f930d40eab6a625'), 'name': 'Rahul Singh', 'age': 22, 'email': 'rs@gmail.com'}\n",
      "{'_id': ObjectId('6523dc202f930d40eab6a627'), 'name': 'Rahul Singh', 'age': 22, 'email': 'rs@gmail.com'}\n",
      "{'_id': ObjectId('6523dc392f930d40eab6a629'), 'name': 'Rahul Singh', 'age': 22, 'email': 'rs@gmail.com'}\n",
      "{'_id': ObjectId('6523dc4c2f930d40eab6a62b'), 'name': 'Rahul Singh', 'age': 22, 'email': 'rs@gmail.com'}\n",
      "{'_id': ObjectId('6523e6092f930d40eab6a62d'), 'name': 'Rahul Singh', 'age': 22, 'email': 'rs@gmail.com'}\n",
      "{'_id': ObjectId('6523e60f2f930d40eab6a62f'), 'name': 'Rahul Singh', 'age': 22, 'email': 'rs@gmail.com'}\n",
      "{'_id': ObjectId('6523e6362f930d40eab6a631'), 'name': 'Rahul Singh', 'age': 22, 'email': 'rs@gmail.com'}\n",
      "{'_id': ObjectId('6523e98a2f930d40eab6a633'), 'name': 'Rahul Singh', 'age': 22, 'email': 'rs@gmail.com'}\n"
     ]
    }
   ],
   "source": [
    "import pymongo\n",
    "from bson.objectid import ObjectId\n",
    "\n",
    "uri = \"mongodb://localhost:27017/\"\n",
    "\n",
    "client = pymongo.MongoClient(uri)\n",
    "\n",
    "db = client.infy\n",
    "\n",
    "collection = db.employee\n",
    "\n",
    "if db is not None:\n",
    "    print(\"Connected\")\n",
    "\n",
    "data = {\n",
    "    \"name\": \"Rahul Singh\",\n",
    "    \"age\": 22,\n",
    "    \"email\": \"rs@gmail.com\"\n",
    "}\n",
    "\n",
    "insert = collection.insert_one(data)\n",
    "\n",
    "data = {\"_id\": ObjectId('6523cf4f441bd18cba472685')}\n",
    "\n",
    "dataup = {\"_id\": ObjectId('6523daba2f930d40eab6a623')}\n",
    "\n",
    "update = {\"$set\": {\"name\": \"Rohit Singh\", \"age\": 20}}\n",
    "\n",
    "result1 = collection.update_one(dataup, update)\n",
    "\n",
    "result2 = collection.delete_one(data)\n",
    "\n",
    "cursor = collection.find({})\n",
    "\n",
    "for document in cursor:\n",
    "    print(document)\n",
    "\n",
    "client.close()\n"
   ]
  }
 ],
 "metadata": {
  "kernelspec": {
   "display_name": "Python 3 (ipykernel)",
   "language": "python",
   "name": "python3"
  },
  "language_info": {
   "codemirror_mode": {
    "name": "ipython",
    "version": 3
   },
   "file_extension": ".py",
   "mimetype": "text/x-python",
   "name": "python",
   "nbconvert_exporter": "python",
   "pygments_lexer": "ipython3",
   "version": "3.11.4"
  }
 },
 "nbformat": 4,
 "nbformat_minor": 5
}
