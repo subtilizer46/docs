{
 "cells": [
  {
   "cell_type": "code",
   "execution_count": 1,
   "id": "4c482557",
   "metadata": {},
   "outputs": [],
   "source": [
    "# Numpy\n",
    "# Matplotlib\n",
    "# Pandas\n",
    "# PIP"
   ]
  },
  {
   "cell_type": "code",
   "execution_count": 2,
   "id": "73bb049a",
   "metadata": {},
   "outputs": [],
   "source": [
    "# List"
   ]
  },
  {
   "cell_type": "code",
   "execution_count": 3,
   "id": "ff0139e9",
   "metadata": {},
   "outputs": [],
   "source": [
    "# Create a list that store different data types."
   ]
  },
  {
   "cell_type": "code",
   "execution_count": 4,
   "id": "cffaa041",
   "metadata": {},
   "outputs": [],
   "source": [
    "# Data Types"
   ]
  },
  {
   "cell_type": "code",
   "execution_count": 5,
   "id": "035378b9",
   "metadata": {},
   "outputs": [],
   "source": [
    "arr = [101,\"Hello\",True,101.2]"
   ]
  },
  {
   "cell_type": "code",
   "execution_count": 6,
   "id": "f13bc26c",
   "metadata": {},
   "outputs": [],
   "source": [
    "# 50P - Sahil"
   ]
  },
  {
   "cell_type": "code",
   "execution_count": 7,
   "id": "ffe7fe2f",
   "metadata": {},
   "outputs": [],
   "source": [
    "arr = [1,2.5,\"hello\",True,[3,4,5],{\"101\":\"Ram\"},None]"
   ]
  },
  {
   "cell_type": "code",
   "execution_count": 8,
   "id": "08b9ea31",
   "metadata": {},
   "outputs": [],
   "source": [
    "# [3,4,5] - nested list"
   ]
  },
  {
   "cell_type": "code",
   "execution_count": 10,
   "id": "ae4aafe5",
   "metadata": {},
   "outputs": [
    {
     "data": {
      "text/plain": [
       "[3, 4, 5]"
      ]
     },
     "execution_count": 10,
     "metadata": {},
     "output_type": "execute_result"
    }
   ],
   "source": [
    "arr[4]"
   ]
  },
  {
   "cell_type": "code",
   "execution_count": null,
   "id": "0545acbc",
   "metadata": {},
   "outputs": [],
   "source": [
    "'''\n",
    "1. int\n",
    "2. string\n",
    "3. float\n",
    "4. boolean\n",
    "5. list\n",
    "6. tuple\n",
    "7. dictionary\n",
    "8. set\n",
    "9. NoneType\n",
    "'''"
   ]
  },
  {
   "cell_type": "code",
   "execution_count": 11,
   "id": "33b02b9c",
   "metadata": {},
   "outputs": [],
   "source": [
    "# In numpy - Object"
   ]
  },
  {
   "cell_type": "code",
   "execution_count": 12,
   "id": "c56016f9",
   "metadata": {},
   "outputs": [],
   "source": [
    "# Numpy"
   ]
  },
  {
   "cell_type": "code",
   "execution_count": 13,
   "id": "cfe62a14",
   "metadata": {},
   "outputs": [
    {
     "name": "stdout",
     "output_type": "stream",
     "text": [
      "[False False  True  True]\n"
     ]
    }
   ],
   "source": [
    "import numpy as np\n",
    "\n",
    "arr1 = np.array([2,3,4,5])\n",
    "arr2 = np.array([2,3,4,5])\n",
    "print(arr1>3)"
   ]
  },
  {
   "cell_type": "code",
   "execution_count": 14,
   "id": "b2cfd92a",
   "metadata": {},
   "outputs": [
    {
     "name": "stdout",
     "output_type": "stream",
     "text": [
      "[4 5]\n"
     ]
    }
   ],
   "source": [
    "import numpy as np\n",
    "\n",
    "arr1 = np.array([2,3,4,5])\n",
    "arr2 = np.array([2,3,4,5])\n",
    "print(arr1[arr1>3])"
   ]
  },
  {
   "cell_type": "code",
   "execution_count": 18,
   "id": "e52c7c0c",
   "metadata": {},
   "outputs": [
    {
     "name": "stdout",
     "output_type": "stream",
     "text": [
      "[2 3 4 5 2 3 4 5]\n"
     ]
    }
   ],
   "source": [
    "import numpy as np\n",
    "\n",
    "arr1 = np.array([2,3,4,5])\n",
    "arr2 = np.array([2,3,4,5])\n",
    "res = np.concatenate((arr1,arr2))\n",
    "print(res)"
   ]
  },
  {
   "cell_type": "code",
   "execution_count": 19,
   "id": "c97995cf",
   "metadata": {},
   "outputs": [],
   "source": [
    "# concatenate is function"
   ]
  },
  {
   "cell_type": "code",
   "execution_count": 20,
   "id": "93d5ea99",
   "metadata": {},
   "outputs": [],
   "source": [
    "# 50P"
   ]
  },
  {
   "cell_type": "code",
   "execution_count": 21,
   "id": "e0df35d8",
   "metadata": {},
   "outputs": [
    {
     "name": "stdout",
     "output_type": "stream",
     "text": [
      "[4 5 4 5]\n"
     ]
    }
   ],
   "source": [
    "import numpy as np\n",
    "\n",
    "arr1 = np.array([2,3,4,5])\n",
    "arr2 = np.array([2,3,4,5])\n",
    "res = np.concatenate((arr1[2:],arr2[2:]))\n",
    "print(res)"
   ]
  },
  {
   "cell_type": "code",
   "execution_count": 22,
   "id": "3b674ec8",
   "metadata": {},
   "outputs": [
    {
     "name": "stdout",
     "output_type": "stream",
     "text": [
      "[False False  True  True False False  True  True]\n"
     ]
    }
   ],
   "source": [
    "import numpy as np\n",
    "\n",
    "arr1 = np.array([2,3,4,5])\n",
    "arr2 = np.array([2,3,4,5])\n",
    "res = np.concatenate((arr1>3,arr2>3))\n",
    "print(res)"
   ]
  },
  {
   "cell_type": "code",
   "execution_count": 23,
   "id": "14c47163",
   "metadata": {},
   "outputs": [
    {
     "name": "stdout",
     "output_type": "stream",
     "text": [
      "[4 5 4 5]\n"
     ]
    }
   ],
   "source": [
    "import numpy as np\n",
    "\n",
    "arr1 = np.array([2,3,4,5])\n",
    "arr2 = np.array([2,3,4,5])\n",
    "res = np.concatenate((arr1[arr1>3],arr2[arr2>3]))\n",
    "print(res)"
   ]
  },
  {
   "cell_type": "code",
   "execution_count": 28,
   "id": "1d2d6ba5",
   "metadata": {},
   "outputs": [],
   "source": [
    "import numpy as np\n",
    "\n",
    "\n",
    "empdata = np.array(\n",
    "[\n",
    "    (\"Alex\",30,60000,\"HR\"),\n",
    "    (\"Ram\",50,160000,\"Data Scientist\"),\n",
    "    (\"Salmaan\",60,50000,\"Developer\"),\n",
    "    (\"Krish\",70,30000,\"Analyst\"),\n",
    "    (\"Ajay Devgan\",40,70000,\"HR\"),\n",
    "])"
   ]
  },
  {
   "cell_type": "code",
   "execution_count": 29,
   "id": "bf4f13e1",
   "metadata": {},
   "outputs": [
    {
     "name": "stdout",
     "output_type": "stream",
     "text": [
      "[['Alex' '30' '60000' 'HR']\n",
      " ['Ram' '50' '160000' 'Data Scientist']\n",
      " ['Salmaan' '60' '50000' 'Developer']\n",
      " ['Krish' '70' '30000' 'Analyst']\n",
      " ['Ajay Devgan' '40' '70000' 'HR']]\n"
     ]
    }
   ],
   "source": [
    "print(empdata)"
   ]
  },
  {
   "cell_type": "code",
   "execution_count": 30,
   "id": "7d37c71b",
   "metadata": {},
   "outputs": [],
   "source": [
    "# 100P"
   ]
  },
  {
   "cell_type": "code",
   "execution_count": 31,
   "id": "e4c763d8",
   "metadata": {},
   "outputs": [],
   "source": [
    "# Display all the employess name of this company."
   ]
  },
  {
   "cell_type": "code",
   "execution_count": 32,
   "id": "10bbaf8d",
   "metadata": {},
   "outputs": [
    {
     "name": "stdout",
     "output_type": "stream",
     "text": [
      "['Alex' 'Ram' 'Salmaan' 'Krish' 'Ajay Devgan']\n"
     ]
    }
   ],
   "source": [
    "names = empdata[:,0]\n",
    "print(names)"
   ]
  },
  {
   "cell_type": "code",
   "execution_count": 33,
   "id": "93b06654",
   "metadata": {},
   "outputs": [
    {
     "name": "stdout",
     "output_type": "stream",
     "text": [
      "['30' '50' '60' '70' '40']\n"
     ]
    }
   ],
   "source": [
    "names = empdata[:,1]\n",
    "print(names)"
   ]
  },
  {
   "cell_type": "code",
   "execution_count": 34,
   "id": "0ce1445a",
   "metadata": {},
   "outputs": [
    {
     "name": "stdout",
     "output_type": "stream",
     "text": [
      "['Alex' '30' '60000' 'HR']\n"
     ]
    }
   ],
   "source": [
    "names = empdata[0]\n",
    "print(names)"
   ]
  },
  {
   "cell_type": "code",
   "execution_count": 35,
   "id": "2edd3ebf",
   "metadata": {},
   "outputs": [
    {
     "name": "stdout",
     "output_type": "stream",
     "text": [
      "['Ram' '50' '160000' 'Data Scientist']\n"
     ]
    }
   ],
   "source": [
    "names = empdata[1]\n",
    "print(names)"
   ]
  },
  {
   "cell_type": "code",
   "execution_count": 36,
   "id": "63919666",
   "metadata": {},
   "outputs": [
    {
     "name": "stdout",
     "output_type": "stream",
     "text": [
      "['Salmaan' '60' '50000' 'Developer']\n"
     ]
    }
   ],
   "source": [
    "names = empdata[2]\n",
    "print(names)"
   ]
  },
  {
   "cell_type": "code",
   "execution_count": 37,
   "id": "23fe36ef",
   "metadata": {},
   "outputs": [
    {
     "name": "stdout",
     "output_type": "stream",
     "text": [
      "Alex\n",
      "Ram\n",
      "Salmaan\n",
      "Krish\n",
      "Ajay Devgan\n"
     ]
    }
   ],
   "source": [
    "for i in empdata:\n",
    "    print(i[0])"
   ]
  },
  {
   "cell_type": "code",
   "execution_count": 38,
   "id": "ee45d961",
   "metadata": {},
   "outputs": [
    {
     "name": "stdout",
     "output_type": "stream",
     "text": [
      "['Alex']\n"
     ]
    }
   ],
   "source": [
    "names = empdata[:1,0]\n",
    "print(names)"
   ]
  },
  {
   "cell_type": "code",
   "execution_count": 39,
   "id": "766ed45a",
   "metadata": {},
   "outputs": [
    {
     "name": "stdout",
     "output_type": "stream",
     "text": [
      "[]\n"
     ]
    }
   ],
   "source": [
    "names = empdata[:0,0]\n",
    "print(names)"
   ]
  },
  {
   "cell_type": "code",
   "execution_count": 40,
   "id": "6064fc17",
   "metadata": {},
   "outputs": [
    {
     "name": "stdout",
     "output_type": "stream",
     "text": [
      "['Alex' 'Ram']\n"
     ]
    }
   ],
   "source": [
    "names = empdata[:2,0]\n",
    "print(names)"
   ]
  },
  {
   "cell_type": "code",
   "execution_count": 41,
   "id": "a91eee00",
   "metadata": {},
   "outputs": [
    {
     "name": "stdout",
     "output_type": "stream",
     "text": [
      "['Alex' 'Ram' 'Salmaan']\n"
     ]
    }
   ],
   "source": [
    "names = empdata[:3,0]\n",
    "print(names)"
   ]
  },
  {
   "cell_type": "code",
   "execution_count": 43,
   "id": "a8a975e7",
   "metadata": {},
   "outputs": [
    {
     "name": "stdout",
     "output_type": "stream",
     "text": [
      "['Alex' 'Ram' 'Salmaan' 'Krish' 'Ajay Devgan']\n"
     ]
    }
   ],
   "source": [
    "names = empdata[:,0] # Extracting the first column(names)\n",
    "print(names)"
   ]
  },
  {
   "cell_type": "code",
   "execution_count": 44,
   "id": "309cfe4f",
   "metadata": {},
   "outputs": [],
   "source": [
    "# 100P"
   ]
  },
  {
   "cell_type": "code",
   "execution_count": 45,
   "id": "745bdb33",
   "metadata": {},
   "outputs": [],
   "source": [
    "# 2. Display the maximum age of the employess"
   ]
  },
  {
   "cell_type": "code",
   "execution_count": 46,
   "id": "b071ae49",
   "metadata": {},
   "outputs": [
    {
     "name": "stdout",
     "output_type": "stream",
     "text": [
      "70\n"
     ]
    }
   ],
   "source": [
    "print(max(empdata[:,1]))"
   ]
  },
  {
   "cell_type": "code",
   "execution_count": 47,
   "id": "c5c4c03e",
   "metadata": {},
   "outputs": [
    {
     "name": "stdout",
     "output_type": "stream",
     "text": [
      "[('Alex', 30,  60000., 'HR') ('Ram', 50, 160000., 'Data Scientist')\n",
      " ('Salmaan', 60,  50000., 'Developer') ('Krish', 70,  30000., 'Analyst')\n",
      " ('Ajay Devga', 40,  70000., 'HR')]\n"
     ]
    }
   ],
   "source": [
    "import numpy as np\n",
    "\n",
    "\n",
    "empdata = np.array(\n",
    "[\n",
    "    (\"Alex\",30,60000,\"HR\"),\n",
    "    (\"Ram\",50,160000,\"Data Scientist\"),\n",
    "    (\"Salmaan\",60,50000,\"Developer\"),\n",
    "    (\"Krish\",70,30000,\"Analyst\"),\n",
    "    (\"Ajay Devgan\",40,70000,\"HR\"),\n",
    "],\n",
    "dtype=[('name','U10'),('age',int),('salary',float),('department','U15')])\n",
    "\n",
    "print(empdata)"
   ]
  },
  {
   "cell_type": "code",
   "execution_count": 53,
   "id": "4e03d386",
   "metadata": {},
   "outputs": [
    {
     "name": "stdout",
     "output_type": "stream",
     "text": [
      "['Alex' 'Ram' 'Salmaan' 'Krish' 'Ajay Devga']\n"
     ]
    }
   ],
   "source": [
    "print(empdata['name'])"
   ]
  },
  {
   "cell_type": "code",
   "execution_count": 54,
   "id": "b2282c6d",
   "metadata": {},
   "outputs": [
    {
     "name": "stdout",
     "output_type": "stream",
     "text": [
      "[30 50 60 70 40]\n"
     ]
    }
   ],
   "source": [
    "print(empdata['age'])"
   ]
  },
  {
   "cell_type": "code",
   "execution_count": 55,
   "id": "8d047c04",
   "metadata": {},
   "outputs": [
    {
     "name": "stdout",
     "output_type": "stream",
     "text": [
      "70\n"
     ]
    }
   ],
   "source": [
    "print(max(empdata['age']))"
   ]
  },
  {
   "cell_type": "code",
   "execution_count": 56,
   "id": "fe8a51d2",
   "metadata": {},
   "outputs": [
    {
     "name": "stdout",
     "output_type": "stream",
     "text": [
      "<class 'numpy.ndarray'>\n"
     ]
    }
   ],
   "source": [
    "print(type(empdata['age']))"
   ]
  },
  {
   "cell_type": "code",
   "execution_count": 57,
   "id": "28c7c778",
   "metadata": {},
   "outputs": [],
   "source": [
    "# dtype"
   ]
  },
  {
   "cell_type": "code",
   "execution_count": null,
   "id": "d6e4ab3e",
   "metadata": {},
   "outputs": [],
   "source": [
    "'''\n",
    "1. It is data type, we are using it here \n",
    "'''"
   ]
  },
  {
   "cell_type": "code",
   "execution_count": null,
   "id": "08e50cde",
   "metadata": {},
   "outputs": [],
   "source": [
    "import numpy as np\n",
    "\n",
    "\n",
    "empdata = np.array(\n",
    "[\n",
    "    (\"Alex\",30,60000,\"HR\"),\n",
    "    (\"Ram\",50,160000,\"Data Scientist\"),\n",
    "    (\"Salmaan\",60,50000,\"Developer\"),\n",
    "    (\"Krish\",70,30000,\"Analyst\"),\n",
    "    (\"Ajay Devgan\",40,70000,\"HR\"),\n",
    "],\n",
    "dtype=[('name','U10'),('age',int),('salary',float),('department','U15')])\n",
    "\n",
    "print(empdata)"
   ]
  },
  {
   "cell_type": "code",
   "execution_count": 58,
   "id": "766bf81a",
   "metadata": {},
   "outputs": [],
   "source": [
    "# U10 - Unicode string and 10 is fixed size"
   ]
  },
  {
   "cell_type": "code",
   "execution_count": 61,
   "id": "d65f492f",
   "metadata": {},
   "outputs": [
    {
     "name": "stdout",
     "output_type": "stream",
     "text": [
      "[('Alex', 30,  60000., 'HR') ('Ram', 50, 160000., 'Data Scientist')\n",
      " ('Salmaan', 60,  50000., 'Developer') ('Krish', 70,  30000., 'Analyst')\n",
      " ('Ajay Devga', 40,  70000., 'HR')]\n"
     ]
    }
   ],
   "source": [
    "import numpy as np\n",
    "\n",
    "\n",
    "empdata = np.array(\n",
    "[\n",
    "    (\"Alex\",30,60000,\"HR\"),\n",
    "    (\"Ram\",50,160000,\"Data Scientist\"),\n",
    "    (\"Salmaan\",60,50000,\"Developer\"),\n",
    "    (\"Krish\",70,30000,\"Analyst\"),\n",
    "    (\"Ajay Devgan\",40,70000,\"HR\"),\n",
    "],\n",
    "dtype=[('name','U10'),('age',int),('salary',float),('department','U15')])\n",
    "\n",
    "print(empdata)"
   ]
  },
  {
   "cell_type": "code",
   "execution_count": 63,
   "id": "05e134dc",
   "metadata": {},
   "outputs": [
    {
     "name": "stdout",
     "output_type": "stream",
     "text": [
      "Alex\n"
     ]
    }
   ],
   "source": [
    "print(empdata['name'][0])"
   ]
  },
  {
   "cell_type": "code",
   "execution_count": 64,
   "id": "bdb566b2",
   "metadata": {},
   "outputs": [
    {
     "name": "stdout",
     "output_type": "stream",
     "text": [
      "Ram\n"
     ]
    }
   ],
   "source": [
    "print(empdata['name'][1])"
   ]
  },
  {
   "cell_type": "code",
   "execution_count": 65,
   "id": "9246a72a",
   "metadata": {},
   "outputs": [
    {
     "name": "stdout",
     "output_type": "stream",
     "text": [
      "Salmaan\n"
     ]
    }
   ],
   "source": [
    "print(empdata['name'][2])"
   ]
  },
  {
   "cell_type": "code",
   "execution_count": 66,
   "id": "9ae2fa8e",
   "metadata": {},
   "outputs": [],
   "source": [
    "# list comprehension"
   ]
  },
  {
   "cell_type": "code",
   "execution_count": 67,
   "id": "e636f86b",
   "metadata": {},
   "outputs": [
    {
     "name": "stdout",
     "output_type": "stream",
     "text": [
      "60\n"
     ]
    }
   ],
   "source": [
    "print(empdata['age'][2])"
   ]
  },
  {
   "cell_type": "code",
   "execution_count": 68,
   "id": "4389f6fc",
   "metadata": {},
   "outputs": [
    {
     "name": "stdout",
     "output_type": "stream",
     "text": [
      "[ True False False False  True]\n"
     ]
    }
   ],
   "source": [
    "print(empdata['department']=='HR')"
   ]
  },
  {
   "cell_type": "code",
   "execution_count": 69,
   "id": "edaaf2df",
   "metadata": {},
   "outputs": [
    {
     "name": "stdout",
     "output_type": "stream",
     "text": [
      "[('Alex', 30, 60000., 'HR') ('Ajay Devga', 40, 70000., 'HR')]\n"
     ]
    }
   ],
   "source": [
    "print(empdata[empdata['department']=='HR'])"
   ]
  },
  {
   "cell_type": "code",
   "execution_count": 71,
   "id": "fa128023",
   "metadata": {},
   "outputs": [
    {
     "name": "stdout",
     "output_type": "stream",
     "text": [
      "60000.0\n"
     ]
    }
   ],
   "source": [
    "print(empdata['salary'][0])"
   ]
  },
  {
   "cell_type": "code",
   "execution_count": 72,
   "id": "6e9b26b8",
   "metadata": {},
   "outputs": [],
   "source": [
    "# Find out the total salary paid by the company"
   ]
  },
  {
   "cell_type": "code",
   "execution_count": 73,
   "id": "d7d7c273",
   "metadata": {},
   "outputs": [
    {
     "name": "stdout",
     "output_type": "stream",
     "text": [
      "370000.0\n"
     ]
    }
   ],
   "source": [
    "print(sum(empdata['salary']))"
   ]
  },
  {
   "cell_type": "code",
   "execution_count": 78,
   "id": "acc2e772",
   "metadata": {},
   "outputs": [
    {
     "data": {
      "text/plain": [
       "130000.0"
      ]
     },
     "execution_count": 78,
     "metadata": {},
     "output_type": "execute_result"
    }
   ],
   "source": [
    "s=sum(empdata[empdata['department']=='HR']['salary'])\n",
    "s"
   ]
  },
  {
   "cell_type": "code",
   "execution_count": null,
   "id": "591e9df8",
   "metadata": {},
   "outputs": [],
   "source": [
    "s=sum(empdata[empdata['department']=='HR']['salary'])"
   ]
  },
  {
   "cell_type": "code",
   "execution_count": 81,
   "id": "9a7a9aea",
   "metadata": {},
   "outputs": [
    {
     "data": {
      "text/plain": [
       "array([60000., 70000.])"
      ]
     },
     "execution_count": 81,
     "metadata": {},
     "output_type": "execute_result"
    }
   ],
   "source": [
    "empdata[empdata['department']=='HR']['salary']"
   ]
  },
  {
   "cell_type": "code",
   "execution_count": 82,
   "id": "5af48cff",
   "metadata": {},
   "outputs": [
    {
     "data": {
      "text/plain": [
       "130000.0"
      ]
     },
     "execution_count": 82,
     "metadata": {},
     "output_type": "execute_result"
    }
   ],
   "source": [
    "sum(empdata[empdata['department']=='HR']['salary'])"
   ]
  },
  {
   "cell_type": "code",
   "execution_count": 87,
   "id": "889b1e7d",
   "metadata": {},
   "outputs": [
    {
     "data": {
      "text/plain": [
       "130000.0"
      ]
     },
     "execution_count": 87,
     "metadata": {},
     "output_type": "execute_result"
    }
   ],
   "source": [
    "s=np.sum(empdata[empdata['department']=='HR']['salary'])\n",
    "s"
   ]
  },
  {
   "cell_type": "markdown",
   "id": "2c6f7131",
   "metadata": {},
   "source": [
    "* Python Language Basics, \n",
    "* OO in Python, \n",
    "* Core Python Program Structure, \n",
    "* Modules and Exception Handling, \n",
    "* Classes in Python, Lists and Tuples, \n",
    "* Data Structures and Data Manipulations, \n",
    "* Python Generator / Iterators, \n",
    "* pip, \n",
    "* virtualenv, \n",
    "* pythonenv, \n",
    "* pep8, \n",
    "* Dictionaries, \n",
    "* PyTest, \n",
    "* Logging and File Handling, \n",
    "* Working with Regular Expressions; \n",
    "* Working with Pandas etc. "
   ]
  },
  {
   "cell_type": "code",
   "execution_count": 88,
   "id": "651e73bf",
   "metadata": {},
   "outputs": [],
   "source": [
    "# What is Virtual Environment?"
   ]
  },
  {
   "cell_type": "code",
   "execution_count": null,
   "id": "b5a020b6",
   "metadata": {},
   "outputs": [],
   "source": [
    "'''\n",
    "1. It is self contained and isolated environment that allow you to\n",
    "- Install the packages seperately from the global python env.\n",
    "- Two virtual env, we can install two different packages version\n",
    "- One VE = can have different python version = 2.7\n",
    "- Second = python 3.11\n",
    "- We can work two or more different python version in same system.\n",
    "- We can work two or more different packages version in same system.\n",
    "- RTE - College classroom.\n",
    "\n",
    "'''"
   ]
  },
  {
   "cell_type": "code",
   "execution_count": 89,
   "id": "79ff0f98",
   "metadata": {},
   "outputs": [
    {
     "data": {
      "text/plain": [
       "'\\n1. Zomato - numpy-3.1\\n2. Flipkart - numpy 2.1\\n3. It will avoid conflicts.\\n'"
      ]
     },
     "execution_count": 89,
     "metadata": {},
     "output_type": "execute_result"
    }
   ],
   "source": [
    "'''\n",
    "1. Zomato - numpy-3.1\n",
    "2. Flipkart - numpy 2.1\n",
    "3. It will avoid conflicts.\n",
    "'''"
   ]
  },
  {
   "cell_type": "code",
   "execution_count": 90,
   "id": "47ce87e5",
   "metadata": {},
   "outputs": [],
   "source": [
    "# python -m venv india"
   ]
  },
  {
   "cell_type": "code",
   "execution_count": 91,
   "id": "909191fc",
   "metadata": {},
   "outputs": [],
   "source": [
    "# india\\Scripts\\activate"
   ]
  },
  {
   "cell_type": "code",
   "execution_count": 92,
   "id": "52a9460b",
   "metadata": {},
   "outputs": [],
   "source": [
    "# pip install numpy==1.24"
   ]
  },
  {
   "cell_type": "code",
   "execution_count": null,
   "id": "971d4fd5",
   "metadata": {},
   "outputs": [],
   "source": []
  }
 ],
 "metadata": {
  "kernelspec": {
   "display_name": "Python 3 (ipykernel)",
   "language": "python",
   "name": "python3"
  },
  "language_info": {
   "codemirror_mode": {
    "name": "ipython",
    "version": 3
   },
   "file_extension": ".py",
   "mimetype": "text/x-python",
   "name": "python",
   "nbconvert_exporter": "python",
   "pygments_lexer": "ipython3",
   "version": "3.11.3"
  }
 },
 "nbformat": 4,
 "nbformat_minor": 5
}
